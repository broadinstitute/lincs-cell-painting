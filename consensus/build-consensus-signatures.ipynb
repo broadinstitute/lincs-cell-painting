{
 "cells": [
  {
   "cell_type": "markdown",
   "metadata": {},
   "source": [
    "# Consensus Signatures\n",
    "\n",
    "Here, we generate consensus signatures for the LINCS Drug Repurposing Hub Cell Painting subset.\n",
    "See the project [README.md](README.md) for more details."
   ]
  },
  {
   "cell_type": "code",
   "execution_count": 1,
   "metadata": {},
   "outputs": [
    {
     "data": {
      "application/javascript": [
       "\n",
       "            setTimeout(function() {\n",
       "                var nbb_cell_id = 1;\n",
       "                var nbb_unformatted_code = \"%load_ext nb_black\";\n",
       "                var nbb_formatted_code = \"%load_ext nb_black\";\n",
       "                var nbb_cells = Jupyter.notebook.get_cells();\n",
       "                for (var i = 0; i < nbb_cells.length; ++i) {\n",
       "                    if (nbb_cells[i].input_prompt_number == nbb_cell_id) {\n",
       "                        if (nbb_cells[i].get_text() == nbb_unformatted_code) {\n",
       "                             nbb_cells[i].set_text(nbb_formatted_code);\n",
       "                        }\n",
       "                        break;\n",
       "                    }\n",
       "                }\n",
       "            }, 500);\n",
       "            "
      ],
      "text/plain": [
       "<IPython.core.display.Javascript object>"
      ]
     },
     "metadata": {},
     "output_type": "display_data"
    }
   ],
   "source": [
    "%load_ext nb_black"
   ]
  },
  {
   "cell_type": "code",
   "execution_count": 2,
   "metadata": {},
   "outputs": [
    {
     "data": {
      "application/javascript": [
       "\n",
       "            setTimeout(function() {\n",
       "                var nbb_cell_id = 2;\n",
       "                var nbb_unformatted_code = \"import os\\nimport pathlib\\nimport numpy as np\\nimport pandas as pd\\n\\nfrom pycytominer.aggregate import aggregate\\nfrom pycytominer.consensus import modz_base\\n\\nfrom pycytominer.cyto_utils import infer_cp_features\";\n",
       "                var nbb_formatted_code = \"import os\\nimport pathlib\\nimport numpy as np\\nimport pandas as pd\\n\\nfrom pycytominer.aggregate import aggregate\\nfrom pycytominer.consensus import modz_base\\n\\nfrom pycytominer.cyto_utils import infer_cp_features\";\n",
       "                var nbb_cells = Jupyter.notebook.get_cells();\n",
       "                for (var i = 0; i < nbb_cells.length; ++i) {\n",
       "                    if (nbb_cells[i].input_prompt_number == nbb_cell_id) {\n",
       "                        if (nbb_cells[i].get_text() == nbb_unformatted_code) {\n",
       "                             nbb_cells[i].set_text(nbb_formatted_code);\n",
       "                        }\n",
       "                        break;\n",
       "                    }\n",
       "                }\n",
       "            }, 500);\n",
       "            "
      ],
      "text/plain": [
       "<IPython.core.display.Javascript object>"
      ]
     },
     "metadata": {},
     "output_type": "display_data"
    }
   ],
   "source": [
    "import os\n",
    "import pathlib\n",
    "import numpy as np\n",
    "import pandas as pd\n",
    "\n",
    "from pycytominer.aggregate import aggregate\n",
    "from pycytominer.consensus import modz_base\n",
    "\n",
    "from pycytominer.cyto_utils import infer_cp_features"
   ]
  },
  {
   "cell_type": "code",
   "execution_count": 3,
   "metadata": {},
   "outputs": [
    {
     "data": {
      "application/javascript": [
       "\n",
       "            setTimeout(function() {\n",
       "                var nbb_cell_id = 3;\n",
       "                var nbb_unformatted_code = \"def recode_dose(x, doses, return_level=False):\\n    closest_index = np.argmin([np.abs(dose - x) for dose in doses])\\n    if np.isnan(x):\\n        return 0\\n    if return_level:\\n        return closest_index + 1\\n    else:\\n        return doses[closest_index]\\n\\n\\ndef consensus_apply(df, operation, cp_features, replicate_cols):\\n    if operation == \\\"modz\\\":\\n        consensus_df = (\\n            df.groupby(replicate_cols)\\n            .apply(lambda x: modz_base(x.loc[:, cp_features]))\\n            .reset_index()\\n        )\\n    elif operation == \\\"median\\\":\\n        consensus_df = aggregate(\\n            df, operation=\\\"median\\\", features=\\\"infer\\\", strata=replicate_cols\\n        )\\n    return consensus_df\";\n",
       "                var nbb_formatted_code = \"def recode_dose(x, doses, return_level=False):\\n    closest_index = np.argmin([np.abs(dose - x) for dose in doses])\\n    if np.isnan(x):\\n        return 0\\n    if return_level:\\n        return closest_index + 1\\n    else:\\n        return doses[closest_index]\\n\\n\\ndef consensus_apply(df, operation, cp_features, replicate_cols):\\n    if operation == \\\"modz\\\":\\n        consensus_df = (\\n            df.groupby(replicate_cols)\\n            .apply(lambda x: modz_base(x.loc[:, cp_features]))\\n            .reset_index()\\n        )\\n    elif operation == \\\"median\\\":\\n        consensus_df = aggregate(\\n            df, operation=\\\"median\\\", features=\\\"infer\\\", strata=replicate_cols\\n        )\\n    return consensus_df\";\n",
       "                var nbb_cells = Jupyter.notebook.get_cells();\n",
       "                for (var i = 0; i < nbb_cells.length; ++i) {\n",
       "                    if (nbb_cells[i].input_prompt_number == nbb_cell_id) {\n",
       "                        if (nbb_cells[i].get_text() == nbb_unformatted_code) {\n",
       "                             nbb_cells[i].set_text(nbb_formatted_code);\n",
       "                        }\n",
       "                        break;\n",
       "                    }\n",
       "                }\n",
       "            }, 500);\n",
       "            "
      ],
      "text/plain": [
       "<IPython.core.display.Javascript object>"
      ]
     },
     "metadata": {},
     "output_type": "display_data"
    }
   ],
   "source": [
    "def recode_dose(x, doses, return_level=False):\n",
    "    closest_index = np.argmin([np.abs(dose - x) for dose in doses])\n",
    "    if np.isnan(x):\n",
    "        return 0\n",
    "    if return_level:\n",
    "        return closest_index + 1\n",
    "    else:\n",
    "        return doses[closest_index]\n",
    "\n",
    "\n",
    "def consensus_apply(df, operation, cp_features, replicate_cols):\n",
    "    if operation == \"modz\":\n",
    "        consensus_df = (\n",
    "            df.groupby(replicate_cols)\n",
    "            .apply(lambda x: modz_base(x.loc[:, cp_features]))\n",
    "            .reset_index()\n",
    "        )\n",
    "    elif operation == \"median\":\n",
    "        consensus_df = aggregate(\n",
    "            df, operation=\"median\", features=\"infer\", strata=replicate_cols\n",
    "        )\n",
    "    return consensus_df"
   ]
  },
  {
   "cell_type": "code",
   "execution_count": 4,
   "metadata": {},
   "outputs": [
    {
     "name": "stdout",
     "output_type": "stream",
     "text": [
      "136\n"
     ]
    },
    {
     "data": {
      "application/javascript": [
       "\n",
       "            setTimeout(function() {\n",
       "                var nbb_cell_id = 4;\n",
       "                var nbb_unformatted_code = \"# Set constants\\nfile_bases = {\\n    \\\"whole_plate\\\": {\\n        \\\"input_file_suffix\\\": \\\"_normalized.csv.gz\\\",\\n        \\\"output_file_suffix\\\": \\\".csv.gz\\\",\\n    },\\n    \\\"dmso\\\": {\\n        \\\"input_file_suffix\\\": \\\"_normalized_dmso.csv.gz\\\",\\n        \\\"output_file_suffix\\\": \\\"_dmso.csv.gz\\\",\\n    },\\n}\\noperations = [\\\"median\\\", \\\"modz\\\"]\\nbatch = \\\"2016_04_01_a549_48hr_batch1\\\"\\nprimary_dose_mapping = [0.04, 0.12, 0.37, 1.11, 3.33, 10, 20]\\n\\n# Set file paths\\nprofile_dir = pathlib.Path(\\\"..\\\", \\\"profiles\\\", batch)\\nplate_dirs = [x for x in profile_dir.iterdir() if x.name != \\\".DS_Store\\\"]\\nplates = [x.name for x in plate_dirs]\\nprint(len(plates))\";\n",
       "                var nbb_formatted_code = \"# Set constants\\nfile_bases = {\\n    \\\"whole_plate\\\": {\\n        \\\"input_file_suffix\\\": \\\"_normalized.csv.gz\\\",\\n        \\\"output_file_suffix\\\": \\\".csv.gz\\\",\\n    },\\n    \\\"dmso\\\": {\\n        \\\"input_file_suffix\\\": \\\"_normalized_dmso.csv.gz\\\",\\n        \\\"output_file_suffix\\\": \\\"_dmso.csv.gz\\\",\\n    },\\n}\\noperations = [\\\"median\\\", \\\"modz\\\"]\\nbatch = \\\"2016_04_01_a549_48hr_batch1\\\"\\nprimary_dose_mapping = [0.04, 0.12, 0.37, 1.11, 3.33, 10, 20]\\n\\n# Set file paths\\nprofile_dir = pathlib.Path(\\\"..\\\", \\\"profiles\\\", batch)\\nplate_dirs = [x for x in profile_dir.iterdir() if x.name != \\\".DS_Store\\\"]\\nplates = [x.name for x in plate_dirs]\\nprint(len(plates))\";\n",
       "                var nbb_cells = Jupyter.notebook.get_cells();\n",
       "                for (var i = 0; i < nbb_cells.length; ++i) {\n",
       "                    if (nbb_cells[i].input_prompt_number == nbb_cell_id) {\n",
       "                        if (nbb_cells[i].get_text() == nbb_unformatted_code) {\n",
       "                             nbb_cells[i].set_text(nbb_formatted_code);\n",
       "                        }\n",
       "                        break;\n",
       "                    }\n",
       "                }\n",
       "            }, 500);\n",
       "            "
      ],
      "text/plain": [
       "<IPython.core.display.Javascript object>"
      ]
     },
     "metadata": {},
     "output_type": "display_data"
    }
   ],
   "source": [
    "# Set constants\n",
    "file_bases = {\n",
    "    \"whole_plate\": {\n",
    "        \"input_file_suffix\": \"_normalized.csv.gz\",\n",
    "        \"output_file_suffix\": \".csv.gz\",\n",
    "    },\n",
    "    \"dmso\": {\n",
    "        \"input_file_suffix\": \"_normalized_dmso.csv.gz\",\n",
    "        \"output_file_suffix\": \"_dmso.csv.gz\",\n",
    "    },\n",
    "}\n",
    "operations = [\"median\", \"modz\"]\n",
    "batch = \"2016_04_01_a549_48hr_batch1\"\n",
    "primary_dose_mapping = [0.04, 0.12, 0.37, 1.11, 3.33, 10, 20]\n",
    "\n",
    "# Set file paths\n",
    "profile_dir = pathlib.Path(\"..\", \"profiles\", batch)\n",
    "plate_dirs = [x for x in profile_dir.iterdir() if x.name != \".DS_Store\"]\n",
    "plates = [x.name for x in plate_dirs]\n",
    "print(len(plates))"
   ]
  },
  {
   "cell_type": "code",
   "execution_count": 5,
   "metadata": {},
   "outputs": [
    {
     "data": {
      "application/javascript": [
       "\n",
       "            setTimeout(function() {\n",
       "                var nbb_cell_id = 5;\n",
       "                var nbb_unformatted_code = \"# The output directory is also the batch name\\npathlib.Path(batch).mkdir(exist_ok=True)\";\n",
       "                var nbb_formatted_code = \"# The output directory is also the batch name\\npathlib.Path(batch).mkdir(exist_ok=True)\";\n",
       "                var nbb_cells = Jupyter.notebook.get_cells();\n",
       "                for (var i = 0; i < nbb_cells.length; ++i) {\n",
       "                    if (nbb_cells[i].input_prompt_number == nbb_cell_id) {\n",
       "                        if (nbb_cells[i].get_text() == nbb_unformatted_code) {\n",
       "                             nbb_cells[i].set_text(nbb_formatted_code);\n",
       "                        }\n",
       "                        break;\n",
       "                    }\n",
       "                }\n",
       "            }, 500);\n",
       "            "
      ],
      "text/plain": [
       "<IPython.core.display.Javascript object>"
      ]
     },
     "metadata": {},
     "output_type": "display_data"
    }
   ],
   "source": [
    "# The output directory is also the batch name\n",
    "pathlib.Path(batch).mkdir(exist_ok=True)"
   ]
  },
  {
   "cell_type": "markdown",
   "metadata": {},
   "source": [
    "## Load Profile Data Per Plate and Concatenate"
   ]
  },
  {
   "cell_type": "code",
   "execution_count": 6,
   "metadata": {},
   "outputs": [
    {
     "name": "stdout",
     "output_type": "stream",
     "text": [
      "(52223, 1810)\n",
      "(52223, 1810)\n"
     ]
    },
    {
     "data": {
      "application/javascript": [
       "\n",
       "            setTimeout(function() {\n",
       "                var nbb_cell_id = 6;\n",
       "                var nbb_unformatted_code = \"# Load Data\\nall_profiles_dfs = {}\\ncp_features = {}\\nfor norm_strat, norm_file_base in file_bases.items():\\n    file_base = norm_file_base[\\\"input_file_suffix\\\"]\\n    all_profiles_df = []\\n    for plate_dir in plate_dirs:\\n        plate = plate_dir.name\\n        plate_file = plate_dir / f\\\"{plate}{file_base}\\\"\\n        plate_df = pd.read_csv(plate_file)\\n        all_profiles_df.append(plate_df)\\n\\n    # Concatenate profiles\\n    all_profiles_df = pd.concat(all_profiles_df, axis=\\\"rows\\\")\\n\\n    # Recode dose\\n    all_profiles_df = all_profiles_df.assign(\\n        Metadata_dose_recode=(\\n            all_profiles_df.Metadata_mmoles_per_liter.apply(\\n                lambda x: recode_dose(x, primary_dose_mapping, return_level=True)\\n            )\\n        )\\n    )\\n\\n    # Make sure DMSO profiles recieve a zero dose level\\n    all_profiles_df.loc[\\n        all_profiles_df.Metadata_broad_sample == \\\"DMSO\\\", \\\"Metadata_dose_recode\\\"\\n    ] = 0\\n\\n    # Store concatenated data frame\\n    all_profiles_dfs[norm_strat] = all_profiles_df\\n\\n    # Determine every CellProfiler feature measured\\n    cp_features[norm_strat] = infer_cp_features(all_profiles_dfs[norm_strat])\\n\\n    # Clean up\\n    print(all_profiles_df.shape)\\n    del all_profiles_df\";\n",
       "                var nbb_formatted_code = \"# Load Data\\nall_profiles_dfs = {}\\ncp_features = {}\\nfor norm_strat, norm_file_base in file_bases.items():\\n    file_base = norm_file_base[\\\"input_file_suffix\\\"]\\n    all_profiles_df = []\\n    for plate_dir in plate_dirs:\\n        plate = plate_dir.name\\n        plate_file = plate_dir / f\\\"{plate}{file_base}\\\"\\n        plate_df = pd.read_csv(plate_file)\\n        all_profiles_df.append(plate_df)\\n\\n    # Concatenate profiles\\n    all_profiles_df = pd.concat(all_profiles_df, axis=\\\"rows\\\")\\n\\n    # Recode dose\\n    all_profiles_df = all_profiles_df.assign(\\n        Metadata_dose_recode=(\\n            all_profiles_df.Metadata_mmoles_per_liter.apply(\\n                lambda x: recode_dose(x, primary_dose_mapping, return_level=True)\\n            )\\n        )\\n    )\\n\\n    # Make sure DMSO profiles recieve a zero dose level\\n    all_profiles_df.loc[\\n        all_profiles_df.Metadata_broad_sample == \\\"DMSO\\\", \\\"Metadata_dose_recode\\\"\\n    ] = 0\\n\\n    # Store concatenated data frame\\n    all_profiles_dfs[norm_strat] = all_profiles_df\\n\\n    # Determine every CellProfiler feature measured\\n    cp_features[norm_strat] = infer_cp_features(all_profiles_dfs[norm_strat])\\n\\n    # Clean up\\n    print(all_profiles_df.shape)\\n    del all_profiles_df\";\n",
       "                var nbb_cells = Jupyter.notebook.get_cells();\n",
       "                for (var i = 0; i < nbb_cells.length; ++i) {\n",
       "                    if (nbb_cells[i].input_prompt_number == nbb_cell_id) {\n",
       "                        if (nbb_cells[i].get_text() == nbb_unformatted_code) {\n",
       "                             nbb_cells[i].set_text(nbb_formatted_code);\n",
       "                        }\n",
       "                        break;\n",
       "                    }\n",
       "                }\n",
       "            }, 500);\n",
       "            "
      ],
      "text/plain": [
       "<IPython.core.display.Javascript object>"
      ]
     },
     "metadata": {},
     "output_type": "display_data"
    }
   ],
   "source": [
    "# Load Data\n",
    "all_profiles_dfs = {}\n",
    "cp_features = {}\n",
    "for norm_strat, norm_file_base in file_bases.items():\n",
    "    file_base = norm_file_base[\"input_file_suffix\"]\n",
    "    all_profiles_df = []\n",
    "    for plate_dir in plate_dirs:\n",
    "        plate = plate_dir.name\n",
    "        plate_file = plate_dir / f\"{plate}{file_base}\"\n",
    "        plate_df = pd.read_csv(plate_file)\n",
    "        all_profiles_df.append(plate_df)\n",
    "\n",
    "    # Concatenate profiles\n",
    "    all_profiles_df = pd.concat(all_profiles_df, axis=\"rows\")\n",
    "\n",
    "    # Recode dose\n",
    "    all_profiles_df = all_profiles_df.assign(\n",
    "        Metadata_dose_recode=(\n",
    "            all_profiles_df.Metadata_mmoles_per_liter.apply(\n",
    "                lambda x: recode_dose(x, primary_dose_mapping, return_level=True)\n",
    "            )\n",
    "        )\n",
    "    )\n",
    "\n",
    "    # Make sure DMSO profiles recieve a zero dose level\n",
    "    all_profiles_df.loc[\n",
    "        all_profiles_df.Metadata_broad_sample == \"DMSO\", \"Metadata_dose_recode\"\n",
    "    ] = 0\n",
    "\n",
    "    # Store concatenated data frame\n",
    "    all_profiles_dfs[norm_strat] = all_profiles_df\n",
    "\n",
    "    # Determine every CellProfiler feature measured\n",
    "    cp_features[norm_strat] = infer_cp_features(all_profiles_dfs[norm_strat])\n",
    "\n",
    "    # Clean up\n",
    "    print(all_profiles_df.shape)\n",
    "    del all_profiles_df"
   ]
  },
  {
   "cell_type": "markdown",
   "metadata": {},
   "source": [
    "## Create Consensus Profiles\n",
    "\n",
    "We aggregate differently for DMSO and Compounds. Specifically, we aggregate by well for DMSO profiles in order to determine the extent of batch effect."
   ]
  },
  {
   "cell_type": "code",
   "execution_count": 7,
   "metadata": {},
   "outputs": [
    {
     "data": {
      "application/javascript": [
       "\n",
       "            setTimeout(function() {\n",
       "                var nbb_cell_id = 7;\n",
       "                var nbb_unformatted_code = \"# Aggregating columns\\ndmso_replicate_cols = [\\n    \\\"Metadata_Plate_Map_Name\\\",\\n    \\\"Metadata_broad_sample\\\",\\n    \\\"Metadata_pert_well\\\",\\n    \\\"Metadata_mmoles_per_liter\\\",\\n    \\\"Metadata_dose_recode\\\",\\n]\\n\\ncompound_replicate_cols = [\\n    \\\"Metadata_Plate_Map_Name\\\",\\n    \\\"Metadata_broad_sample\\\",\\n    \\\"Metadata_mmoles_per_liter\\\",\\n    \\\"Metadata_dose_recode\\\",\\n]\";\n",
       "                var nbb_formatted_code = \"# Aggregating columns\\ndmso_replicate_cols = [\\n    \\\"Metadata_Plate_Map_Name\\\",\\n    \\\"Metadata_broad_sample\\\",\\n    \\\"Metadata_pert_well\\\",\\n    \\\"Metadata_mmoles_per_liter\\\",\\n    \\\"Metadata_dose_recode\\\",\\n]\\n\\ncompound_replicate_cols = [\\n    \\\"Metadata_Plate_Map_Name\\\",\\n    \\\"Metadata_broad_sample\\\",\\n    \\\"Metadata_mmoles_per_liter\\\",\\n    \\\"Metadata_dose_recode\\\",\\n]\";\n",
       "                var nbb_cells = Jupyter.notebook.get_cells();\n",
       "                for (var i = 0; i < nbb_cells.length; ++i) {\n",
       "                    if (nbb_cells[i].input_prompt_number == nbb_cell_id) {\n",
       "                        if (nbb_cells[i].get_text() == nbb_unformatted_code) {\n",
       "                             nbb_cells[i].set_text(nbb_formatted_code);\n",
       "                        }\n",
       "                        break;\n",
       "                    }\n",
       "                }\n",
       "            }, 500);\n",
       "            "
      ],
      "text/plain": [
       "<IPython.core.display.Javascript object>"
      ]
     },
     "metadata": {},
     "output_type": "display_data"
    }
   ],
   "source": [
    "# Aggregating columns\n",
    "dmso_replicate_cols = [\n",
    "    \"Metadata_Plate_Map_Name\",\n",
    "    \"Metadata_broad_sample\",\n",
    "    \"Metadata_pert_well\",\n",
    "    \"Metadata_mmoles_per_liter\",\n",
    "    \"Metadata_dose_recode\",\n",
    "]\n",
    "\n",
    "compound_replicate_cols = [\n",
    "    \"Metadata_Plate_Map_Name\",\n",
    "    \"Metadata_broad_sample\",\n",
    "    \"Metadata_mmoles_per_liter\",\n",
    "    \"Metadata_dose_recode\",\n",
    "]"
   ]
  },
  {
   "cell_type": "code",
   "execution_count": 8,
   "metadata": {},
   "outputs": [
    {
     "name": "stdout",
     "output_type": "stream",
     "text": [
      "There are 3264 DMSO profiles per well with whole_plate normalization\n",
      "Now calculating DMSO median consensus for whole_plate normalization\n",
      "Now calculating DMSO modz consensus for whole_plate normalization\n",
      "Now calculating Compound median consensus for whole_plate normalization\n",
      "Now calculating Compound modz consensus for whole_plate normalization\n",
      "There are 10136 median consensus profiles for whole_plate normalization\n",
      "There are 10136 modz consensus profiles for whole_plate normalization\n",
      "There are 3264 DMSO profiles per well with dmso normalization\n",
      "Now calculating DMSO median consensus for dmso normalization\n",
      "Now calculating DMSO modz consensus for dmso normalization\n",
      "Now calculating Compound median consensus for dmso normalization\n",
      "Now calculating Compound modz consensus for dmso normalization\n",
      "There are 10136 median consensus profiles for dmso normalization\n",
      "There are 10136 modz consensus profiles for dmso normalization\n"
     ]
    },
    {
     "data": {
      "application/javascript": [
       "\n",
       "            setTimeout(function() {\n",
       "                var nbb_cell_id = 8;\n",
       "                var nbb_unformatted_code = \"all_consensus_dfs = {}\\nfor norm_strat in file_bases:\\n    all_profiles_df = all_profiles_dfs[norm_strat]\\n    cp_norm_features = cp_features[norm_strat]\\n\\n    # Isolate DMSO profiles\\n    dmso_profile_df = all_profiles_df.query(\\n        \\\"Metadata_broad_sample == 'DMSO'\\\"\\n    ).reset_index(drop=True)\\n\\n    # How many DMSO profiles per well?\\n    print(\\n        f\\\"There are {dmso_profile_df.shape[0]} DMSO profiles per well with {norm_strat} normalization\\\"\\n    )\\n\\n    # Form dmso consensus profiles with median and modz\\n    dmso_profiles = {}\\n    for operation in operations:\\n        print(\\n            f\\\"Now calculating DMSO {operation} consensus for {norm_strat} normalization\\\"\\n        )\\n        dmso_profiles[operation] = consensus_apply(\\n            dmso_profile_df,\\n            operation=operation,\\n            cp_features=cp_norm_features,\\n            replicate_cols=dmso_replicate_cols,\\n        )\\n\\n    compound_profile_df = all_profiles_df.query(\\n        \\\"Metadata_broad_sample != 'DMSO'\\\"\\n    ).reset_index(drop=True)\\n\\n    # Form compound consensus profiles with median and modz\\n    compound_profiles = {}\\n    for operation in operations:\\n        print(\\n            f\\\"Now calculating Compound {operation} consensus for {norm_strat} normalization\\\"\\n        )\\n        compound_profiles[operation] = consensus_apply(\\n            compound_profile_df,\\n            operation=operation,\\n            cp_features=cp_norm_features,\\n            replicate_cols=compound_replicate_cols,\\n        )\\n\\n        compound_profiles[operation] = compound_profiles[operation].assign(\\n            Metadata_pert_well=\\\"collapsed\\\"\\n        )\\n\\n    consensus_profiles = {}\\n    for operation in operations:\\n        consensus_file = f\\\"{batch}_consensus_{operation}.csv.gz\\\"\\n        consensus_file = pathlib.Path(batch, consensus_file)\\n\\n        dmso_df = dmso_profiles[operation]\\n        compound_df = compound_profiles[operation]\\n\\n        consensus_profiles[operation] = (\\n            pd.concat([dmso_df, compound_df], axis=\\\"rows\\\", sort=True)\\n            .reset_index(drop=True)\\n            .loc[:, dmso_replicate_cols + cp_norm_features]\\n        )\\n\\n        # How many DMSO profiles per well?\\n        print(\\n            f\\\"There are {consensus_profiles[operation].shape[0]} {operation} consensus profiles for {norm_strat} normalization\\\"\\n        )\\n\\n    all_consensus_dfs[norm_strat] = consensus_profiles\";\n",
       "                var nbb_formatted_code = \"all_consensus_dfs = {}\\nfor norm_strat in file_bases:\\n    all_profiles_df = all_profiles_dfs[norm_strat]\\n    cp_norm_features = cp_features[norm_strat]\\n\\n    # Isolate DMSO profiles\\n    dmso_profile_df = all_profiles_df.query(\\n        \\\"Metadata_broad_sample == 'DMSO'\\\"\\n    ).reset_index(drop=True)\\n\\n    # How many DMSO profiles per well?\\n    print(\\n        f\\\"There are {dmso_profile_df.shape[0]} DMSO profiles per well with {norm_strat} normalization\\\"\\n    )\\n\\n    # Form dmso consensus profiles with median and modz\\n    dmso_profiles = {}\\n    for operation in operations:\\n        print(\\n            f\\\"Now calculating DMSO {operation} consensus for {norm_strat} normalization\\\"\\n        )\\n        dmso_profiles[operation] = consensus_apply(\\n            dmso_profile_df,\\n            operation=operation,\\n            cp_features=cp_norm_features,\\n            replicate_cols=dmso_replicate_cols,\\n        )\\n\\n    compound_profile_df = all_profiles_df.query(\\n        \\\"Metadata_broad_sample != 'DMSO'\\\"\\n    ).reset_index(drop=True)\\n\\n    # Form compound consensus profiles with median and modz\\n    compound_profiles = {}\\n    for operation in operations:\\n        print(\\n            f\\\"Now calculating Compound {operation} consensus for {norm_strat} normalization\\\"\\n        )\\n        compound_profiles[operation] = consensus_apply(\\n            compound_profile_df,\\n            operation=operation,\\n            cp_features=cp_norm_features,\\n            replicate_cols=compound_replicate_cols,\\n        )\\n\\n        compound_profiles[operation] = compound_profiles[operation].assign(\\n            Metadata_pert_well=\\\"collapsed\\\"\\n        )\\n\\n    consensus_profiles = {}\\n    for operation in operations:\\n        consensus_file = f\\\"{batch}_consensus_{operation}.csv.gz\\\"\\n        consensus_file = pathlib.Path(batch, consensus_file)\\n\\n        dmso_df = dmso_profiles[operation]\\n        compound_df = compound_profiles[operation]\\n\\n        consensus_profiles[operation] = (\\n            pd.concat([dmso_df, compound_df], axis=\\\"rows\\\", sort=True)\\n            .reset_index(drop=True)\\n            .loc[:, dmso_replicate_cols + cp_norm_features]\\n        )\\n\\n        # How many DMSO profiles per well?\\n        print(\\n            f\\\"There are {consensus_profiles[operation].shape[0]} {operation} consensus profiles for {norm_strat} normalization\\\"\\n        )\\n\\n    all_consensus_dfs[norm_strat] = consensus_profiles\";\n",
       "                var nbb_cells = Jupyter.notebook.get_cells();\n",
       "                for (var i = 0; i < nbb_cells.length; ++i) {\n",
       "                    if (nbb_cells[i].input_prompt_number == nbb_cell_id) {\n",
       "                        if (nbb_cells[i].get_text() == nbb_unformatted_code) {\n",
       "                             nbb_cells[i].set_text(nbb_formatted_code);\n",
       "                        }\n",
       "                        break;\n",
       "                    }\n",
       "                }\n",
       "            }, 500);\n",
       "            "
      ],
      "text/plain": [
       "<IPython.core.display.Javascript object>"
      ]
     },
     "metadata": {},
     "output_type": "display_data"
    }
   ],
   "source": [
    "all_consensus_dfs = {}\n",
    "for norm_strat in file_bases:\n",
    "    all_profiles_df = all_profiles_dfs[norm_strat]\n",
    "    cp_norm_features = cp_features[norm_strat]\n",
    "\n",
    "    # Isolate DMSO profiles\n",
    "    dmso_profile_df = all_profiles_df.query(\n",
    "        \"Metadata_broad_sample == 'DMSO'\"\n",
    "    ).reset_index(drop=True)\n",
    "\n",
    "    # How many DMSO profiles per well?\n",
    "    print(\n",
    "        f\"There are {dmso_profile_df.shape[0]} DMSO profiles per well with {norm_strat} normalization\"\n",
    "    )\n",
    "\n",
    "    # Form dmso consensus profiles with median and modz\n",
    "    dmso_profiles = {}\n",
    "    for operation in operations:\n",
    "        print(\n",
    "            f\"Now calculating DMSO {operation} consensus for {norm_strat} normalization\"\n",
    "        )\n",
    "        dmso_profiles[operation] = consensus_apply(\n",
    "            dmso_profile_df,\n",
    "            operation=operation,\n",
    "            cp_features=cp_norm_features,\n",
    "            replicate_cols=dmso_replicate_cols,\n",
    "        )\n",
    "\n",
    "    compound_profile_df = all_profiles_df.query(\n",
    "        \"Metadata_broad_sample != 'DMSO'\"\n",
    "    ).reset_index(drop=True)\n",
    "\n",
    "    # Form compound consensus profiles with median and modz\n",
    "    compound_profiles = {}\n",
    "    for operation in operations:\n",
    "        print(\n",
    "            f\"Now calculating Compound {operation} consensus for {norm_strat} normalization\"\n",
    "        )\n",
    "        compound_profiles[operation] = consensus_apply(\n",
    "            compound_profile_df,\n",
    "            operation=operation,\n",
    "            cp_features=cp_norm_features,\n",
    "            replicate_cols=compound_replicate_cols,\n",
    "        )\n",
    "\n",
    "        compound_profiles[operation] = compound_profiles[operation].assign(\n",
    "            Metadata_pert_well=\"collapsed\"\n",
    "        )\n",
    "\n",
    "    consensus_profiles = {}\n",
    "    for operation in operations:\n",
    "        consensus_file = f\"{batch}_consensus_{operation}.csv.gz\"\n",
    "        consensus_file = pathlib.Path(batch, consensus_file)\n",
    "\n",
    "        dmso_df = dmso_profiles[operation]\n",
    "        compound_df = compound_profiles[operation]\n",
    "\n",
    "        consensus_profiles[operation] = (\n",
    "            pd.concat([dmso_df, compound_df], axis=\"rows\", sort=True)\n",
    "            .reset_index(drop=True)\n",
    "            .loc[:, dmso_replicate_cols + cp_norm_features]\n",
    "        )\n",
    "\n",
    "        # How many DMSO profiles per well?\n",
    "        print(\n",
    "            f\"There are {consensus_profiles[operation].shape[0]} {operation} consensus profiles for {norm_strat} normalization\"\n",
    "        )\n",
    "\n",
    "    all_consensus_dfs[norm_strat] = consensus_profiles"
   ]
  },
  {
   "cell_type": "markdown",
   "metadata": {},
   "source": [
    "## Merge and Output Consensus Signatures"
   ]
  },
  {
   "cell_type": "code",
   "execution_count": 9,
   "metadata": {},
   "outputs": [
    {
     "name": "stdout",
     "output_type": "stream",
     "text": [
      "Now Writing: Consensus Operation: median; Norm Strategy: whole_plate\n",
      "(10136, 1788)\n",
      "Now Writing: Consensus Operation: modz; Norm Strategy: whole_plate\n",
      "(10136, 1788)\n",
      "Now Writing: Consensus Operation: median; Norm Strategy: dmso\n",
      "(10136, 1788)\n",
      "Now Writing: Consensus Operation: modz; Norm Strategy: dmso\n",
      "(10136, 1788)\n"
     ]
    },
    {
     "data": {
      "application/javascript": [
       "\n",
       "            setTimeout(function() {\n",
       "                var nbb_cell_id = 9;\n",
       "                var nbb_unformatted_code = \"for norm_strat in file_bases:\\n    file_suffix = file_bases[norm_strat][\\\"output_file_suffix\\\"]\\n    for operation in operations:\\n        consensus_file = f\\\"{batch}_consensus_{operation}{file_suffix}\\\"\\n        consensus_file = pathlib.Path(batch, consensus_file)\\n\\n        consensus_df = all_consensus_dfs[norm_strat][operation]\\n\\n        print(\\n            f\\\"Now Writing: Consensus Operation: {operation}; Norm Strategy: {norm_strat}\\\"\\n        )\\n        print(consensus_df.shape)\\n\\n        consensus_df.to_csv(\\n            consensus_file, sep=\\\",\\\", compression=\\\"gzip\\\", float_format=\\\"%5g\\\", index=False\\n        )\";\n",
       "                var nbb_formatted_code = \"for norm_strat in file_bases:\\n    file_suffix = file_bases[norm_strat][\\\"output_file_suffix\\\"]\\n    for operation in operations:\\n        consensus_file = f\\\"{batch}_consensus_{operation}{file_suffix}\\\"\\n        consensus_file = pathlib.Path(batch, consensus_file)\\n\\n        consensus_df = all_consensus_dfs[norm_strat][operation]\\n\\n        print(\\n            f\\\"Now Writing: Consensus Operation: {operation}; Norm Strategy: {norm_strat}\\\"\\n        )\\n        print(consensus_df.shape)\\n\\n        consensus_df.to_csv(\\n            consensus_file, sep=\\\",\\\", compression=\\\"gzip\\\", float_format=\\\"%5g\\\", index=False\\n        )\";\n",
       "                var nbb_cells = Jupyter.notebook.get_cells();\n",
       "                for (var i = 0; i < nbb_cells.length; ++i) {\n",
       "                    if (nbb_cells[i].input_prompt_number == nbb_cell_id) {\n",
       "                        if (nbb_cells[i].get_text() == nbb_unformatted_code) {\n",
       "                             nbb_cells[i].set_text(nbb_formatted_code);\n",
       "                        }\n",
       "                        break;\n",
       "                    }\n",
       "                }\n",
       "            }, 500);\n",
       "            "
      ],
      "text/plain": [
       "<IPython.core.display.Javascript object>"
      ]
     },
     "metadata": {},
     "output_type": "display_data"
    }
   ],
   "source": [
    "for norm_strat in file_bases:\n",
    "    file_suffix = file_bases[norm_strat][\"output_file_suffix\"]\n",
    "    for operation in operations:\n",
    "        consensus_file = f\"{batch}_consensus_{operation}{file_suffix}\"\n",
    "        consensus_file = pathlib.Path(batch, consensus_file)\n",
    "\n",
    "        consensus_df = all_consensus_dfs[norm_strat][operation]\n",
    "\n",
    "        print(\n",
    "            f\"Now Writing: Consensus Operation: {operation}; Norm Strategy: {norm_strat}\"\n",
    "        )\n",
    "        print(consensus_df.shape)\n",
    "\n",
    "        consensus_df.to_csv(\n",
    "            consensus_file, sep=\",\", compression=\"gzip\", float_format=\"%5g\", index=False\n",
    "        )"
   ]
  }
 ],
 "metadata": {
  "kernelspec": {
   "display_name": "Python 3",
   "language": "python",
   "name": "python3"
  },
  "language_info": {
   "codemirror_mode": {
    "name": "ipython",
    "version": 3
   },
   "file_extension": ".py",
   "mimetype": "text/x-python",
   "name": "python",
   "nbconvert_exporter": "python",
   "pygments_lexer": "ipython3",
   "version": "3.7.6"
  }
 },
 "nbformat": 4,
 "nbformat_minor": 4
}

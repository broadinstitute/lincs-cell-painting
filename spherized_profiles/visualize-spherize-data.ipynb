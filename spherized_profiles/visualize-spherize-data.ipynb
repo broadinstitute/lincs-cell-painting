{
 "cells": [
  {
   "cell_type": "markdown",
   "id": "humanitarian-selection",
   "metadata": {},
   "source": [
    "## Visualize a representation of the spherized LINCS Cell Painting dataset"
   ]
  },
  {
   "cell_type": "code",
   "execution_count": 1,
   "id": "cultural-isolation",
   "metadata": {},
   "outputs": [],
   "source": [
    "import umap\n",
    "import pathlib\n",
    "import numpy as np\n",
    "import pandas as pd\n",
    "import plotnine as gg\n",
    "\n",
    "from pycytominer.cyto_utils import infer_cp_features"
   ]
  },
  {
   "cell_type": "code",
   "execution_count": 2,
   "id": "d1d46e76",
   "metadata": {},
   "outputs": [],
   "source": [
    "np.random.seed(9876)"
   ]
  },
  {
   "cell_type": "code",
   "execution_count": 3,
   "id": "native-easter",
   "metadata": {},
   "outputs": [],
   "source": [
    "profile_path = pathlib.Path(\"profiles\")\n",
    "\n",
    "batches = [\"2016_04_01_a549_48hr_batch1\", \"2017_12_05_Batch2\"]\n",
    "norm_methods = [\"whole_plate\", \"dmso\"]\n",
    "\n",
    "file_filler = \"_dmso_spherized_profiles_with_input_normalized_by_\"\n",
    "\n",
    "output_dir = pathlib.Path(\"figures\")\n",
    "output_dir = {batch: pathlib.Path(output_dir, batch) for batch in batches}"
   ]
  },
  {
   "cell_type": "code",
   "execution_count": 4,
   "id": "metropolitan-drunk",
   "metadata": {},
   "outputs": [
    {
     "name": "stdout",
     "output_type": "stream",
     "text": [
      "Now obtaining UMAP embeddings for profiles/2016_04_01_a549_48hr_batch1_dmso_spherized_profiles_with_input_normalized_by_whole_plate.csv.gz...\n"
     ]
    },
    {
     "name": "stderr",
     "output_type": "stream",
     "text": [
      "/Users/gway/miniconda3/envs/lincs/lib/python3.7/site-packages/IPython/core/interactiveshell.py:3166: DtypeWarning: Columns (22,23) have mixed types.Specify dtype option on import or set low_memory=False.\n",
      "  interactivity=interactivity, compiler=compiler, result=result)\n"
     ]
    },
    {
     "name": "stdout",
     "output_type": "stream",
     "text": [
      "done.\n",
      "\n",
      "Now obtaining UMAP embeddings for profiles/2016_04_01_a549_48hr_batch1_dmso_spherized_profiles_with_input_normalized_by_dmso.csv.gz...\n"
     ]
    },
    {
     "name": "stderr",
     "output_type": "stream",
     "text": [
      "/Users/gway/miniconda3/envs/lincs/lib/python3.7/site-packages/IPython/core/interactiveshell.py:3166: DtypeWarning: Columns (22,23) have mixed types.Specify dtype option on import or set low_memory=False.\n",
      "  interactivity=interactivity, compiler=compiler, result=result)\n",
      "/Users/gway/miniconda3/envs/lincs/lib/python3.7/site-packages/sklearn/manifold/_spectral_embedding.py:245: UserWarning: Graph is not fully connected, spectral embedding may not work as expected.\n",
      "  warnings.warn(\"Graph is not fully connected, spectral embedding\"\n"
     ]
    },
    {
     "name": "stdout",
     "output_type": "stream",
     "text": [
      "done.\n",
      "\n",
      "Now obtaining UMAP embeddings for profiles/2017_12_05_Batch2_dmso_spherized_profiles_with_input_normalized_by_whole_plate.csv.gz...\n",
      "done.\n",
      "\n",
      "Now obtaining UMAP embeddings for profiles/2017_12_05_Batch2_dmso_spherized_profiles_with_input_normalized_by_dmso.csv.gz...\n",
      "done.\n",
      "\n"
     ]
    }
   ],
   "source": [
    "# Identify UMAP embeddings for all spherized profiles\n",
    "embeddings = {batch: {} for batch in batches}\n",
    "for batch in batches:\n",
    "    for norm_method in norm_methods:\n",
    "        file = pathlib.Path(profile_path, f\"{batch}{file_filler}{norm_method}.csv.gz\")\n",
    "        print(f\"Now obtaining UMAP embeddings for {file}...\")\n",
    "        # Load spherized data\n",
    "        spherized_df = pd.read_csv(file)\n",
    "        \n",
    "        # Extract features\n",
    "        cp_features = infer_cp_features(spherized_df)\n",
    "        meta_features = infer_cp_features(spherized_df, metadata=True)\n",
    "\n",
    "        # Fit UMAP\n",
    "        reducer = umap.UMAP(random_state=123)\n",
    "        embedding_df = reducer.fit_transform(spherized_df.loc[:, cp_features])\n",
    "\n",
    "        embedding_df = pd.DataFrame(embedding_df)\n",
    "        embedding_df.columns = [\"UMAP_0\", \"UMAP_1\"]\n",
    "        embedding_df = pd.concat(\n",
    "            [\n",
    "                spherized_df.loc[:, meta_features],\n",
    "                embedding_df\n",
    "            ],\n",
    "            axis=\"columns\"\n",
    "        )\n",
    "        embedding_df = embedding_df.assign(dmso_label=\"DMSO\")\n",
    "        embedding_df.loc[embedding_df.Metadata_broad_sample != \"DMSO\", \"dmso_label\"] = \"compound\"\n",
    "\n",
    "        embeddings[batch][norm_method] = embedding_df\n",
    "        print(\"done.\\n\")"
   ]
  },
  {
   "cell_type": "markdown",
   "id": "4ea3abc6",
   "metadata": {},
   "source": [
    "### Output a series of visualizations for the spherized profiles\n",
    "\n",
    "1. Batch 1 - Both normalization methods - UMAP highlighting compound vs. non-compound\n",
    "2. Batch 1 - Both normalization methods - UMAP highlighting plate\n",
    "3. Batch 2 - Both normalization methods - UMAP highlighting compound vs. non-compound\n",
    "4. Batch 2 - Both normalization methods - UMAP highlighting plate\n",
    "5. Batch 2 - Both normalization methods - UMAP highlighting different cell lines\n",
    "6. Batch 2 - Both normalization methods - UMAP highlighting different time points\n",
    "\n",
    "There will be a total of 12 figures, distributed in two pdf files."
   ]
  },
  {
   "cell_type": "code",
   "execution_count": 5,
   "id": "ad4bab75",
   "metadata": {},
   "outputs": [
    {
     "name": "stderr",
     "output_type": "stream",
     "text": [
      "/Users/gway/miniconda3/envs/lincs/lib/python3.7/site-packages/plotnine/ggplot.py:848: PlotnineWarning: Filename: figures/2016_04_01_a549_48hr_batch1/2016_04_01_a549_48hr_batch1_UMAPs.pdf\n",
      "  warn('Filename: {}'.format(filename), PlotnineWarning)\n",
      "/Users/gway/miniconda3/envs/lincs/lib/python3.7/site-packages/plotnine/facets/facet_grid.py:136: FutureWarning: Index.__and__ operating as a set operation is deprecated, in the future this will be a logical operation matching Series.__and__.  Use index.intersection(other) instead\n",
      "  margin_vars = [list(data.columns & self.rows),\n",
      "/Users/gway/miniconda3/envs/lincs/lib/python3.7/site-packages/plotnine/facets/facet_grid.py:137: FutureWarning: Index.__and__ operating as a set operation is deprecated, in the future this will be a logical operation matching Series.__and__.  Use index.intersection(other) instead\n",
      "  list(data.columns & self.cols)]\n",
      "/Users/gway/miniconda3/envs/lincs/lib/python3.7/site-packages/plotnine/utils.py:1246: FutureWarning: is_categorical is deprecated and will be removed in a future version.  Use is_categorical_dtype instead\n",
      "  if pdtypes.is_categorical(arr):\n",
      "/Users/gway/miniconda3/envs/lincs/lib/python3.7/site-packages/plotnine/facets/facet_grid.py:136: FutureWarning: Index.__and__ operating as a set operation is deprecated, in the future this will be a logical operation matching Series.__and__.  Use index.intersection(other) instead\n",
      "  margin_vars = [list(data.columns & self.rows),\n",
      "/Users/gway/miniconda3/envs/lincs/lib/python3.7/site-packages/plotnine/facets/facet_grid.py:137: FutureWarning: Index.__and__ operating as a set operation is deprecated, in the future this will be a logical operation matching Series.__and__.  Use index.intersection(other) instead\n",
      "  list(data.columns & self.cols)]\n",
      "/Users/gway/miniconda3/envs/lincs/lib/python3.7/site-packages/plotnine/utils.py:1246: FutureWarning: is_categorical is deprecated and will be removed in a future version.  Use is_categorical_dtype instead\n",
      "  if pdtypes.is_categorical(arr):\n",
      "/Users/gway/miniconda3/envs/lincs/lib/python3.7/site-packages/plotnine/facets/facet_grid.py:136: FutureWarning: Index.__and__ operating as a set operation is deprecated, in the future this will be a logical operation matching Series.__and__.  Use index.intersection(other) instead\n",
      "  margin_vars = [list(data.columns & self.rows),\n",
      "/Users/gway/miniconda3/envs/lincs/lib/python3.7/site-packages/plotnine/facets/facet_grid.py:137: FutureWarning: Index.__and__ operating as a set operation is deprecated, in the future this will be a logical operation matching Series.__and__.  Use index.intersection(other) instead\n",
      "  list(data.columns & self.cols)]\n",
      "/Users/gway/miniconda3/envs/lincs/lib/python3.7/site-packages/plotnine/utils.py:1246: FutureWarning: is_categorical is deprecated and will be removed in a future version.  Use is_categorical_dtype instead\n",
      "  if pdtypes.is_categorical(arr):\n",
      "/Users/gway/miniconda3/envs/lincs/lib/python3.7/site-packages/plotnine/facets/facet_grid.py:136: FutureWarning: Index.__and__ operating as a set operation is deprecated, in the future this will be a logical operation matching Series.__and__.  Use index.intersection(other) instead\n",
      "  margin_vars = [list(data.columns & self.rows),\n",
      "/Users/gway/miniconda3/envs/lincs/lib/python3.7/site-packages/plotnine/facets/facet_grid.py:137: FutureWarning: Index.__and__ operating as a set operation is deprecated, in the future this will be a logical operation matching Series.__and__.  Use index.intersection(other) instead\n",
      "  list(data.columns & self.cols)]\n",
      "/Users/gway/miniconda3/envs/lincs/lib/python3.7/site-packages/plotnine/utils.py:1246: FutureWarning: is_categorical is deprecated and will be removed in a future version.  Use is_categorical_dtype instead\n",
      "  if pdtypes.is_categorical(arr):\n"
     ]
    }
   ],
   "source": [
    "batch = \"2016_04_01_a549_48hr_batch1\"\n",
    "\n",
    "plotlist = []\n",
    "for norm_method in norm_methods:\n",
    "    for color_type in [\"Metadata_broad_sample\", \"Metadata_Plate\"]:\n",
    "        output_file = pathlib.Path(output_dir[batch], f\"{batch}_{norm_method}_colorby{color_type}.png\")\n",
    "        output_file.parent.mkdir(exist_ok=True)\n",
    "        \n",
    "        label = f\"Batch 1: Normalized by {norm_method.upper()}\\nColored by {color_type}\"\n",
    "\n",
    "        embedding_gg = (\n",
    "            gg.ggplot(embeddings[batch][norm_method], gg.aes(x=\"UMAP_0\", y=\"UMAP_1\"))\n",
    "            + gg.geom_point(gg.aes(color=color_type), size=0.1, alpha=0.2)\n",
    "            + gg.facet_grid(\"~dmso_label\")\n",
    "            + gg.ggtitle(label)\n",
    "            + gg.theme_bw()\n",
    "            + gg.xlab(\"UMAP X\")\n",
    "            + gg.ylab(\"UMAP Y\")\n",
    "            + gg.theme(\n",
    "                legend_position=\"none\",\n",
    "                strip_text=gg.element_text(size=5),\n",
    "                strip_background=gg.element_rect(colour=\"black\", fill=\"#fdfff4\"),\n",
    "                axis_text=gg.element_text(size=6),\n",
    "                axis_title=gg.element_text(size=7),\n",
    "                title=gg.element_text(size=7),\n",
    "                figure_size=(5.5, 3)\n",
    "            )\n",
    "        )\n",
    "        plotlist.append(embedding_gg)\n",
    "\n",
    "output_file = pathlib.Path(output_dir[batch], f\"{batch}_UMAPs.pdf\")\n",
    "output_file.parent.mkdir(exist_ok=True)\n",
    "gg.save_as_pdf_pages(plotlist, output_file)"
   ]
  },
  {
   "cell_type": "code",
   "execution_count": 6,
   "id": "d78c423d",
   "metadata": {},
   "outputs": [
    {
     "name": "stderr",
     "output_type": "stream",
     "text": [
      "/Users/gway/miniconda3/envs/lincs/lib/python3.7/site-packages/plotnine/ggplot.py:848: PlotnineWarning: Filename: figures/2017_12_05_Batch2/2017_12_05_Batch2_UMAPs.pdf\n",
      "  warn('Filename: {}'.format(filename), PlotnineWarning)\n",
      "/Users/gway/miniconda3/envs/lincs/lib/python3.7/site-packages/plotnine/facets/facet_grid.py:136: FutureWarning: Index.__and__ operating as a set operation is deprecated, in the future this will be a logical operation matching Series.__and__.  Use index.intersection(other) instead\n",
      "  margin_vars = [list(data.columns & self.rows),\n",
      "/Users/gway/miniconda3/envs/lincs/lib/python3.7/site-packages/plotnine/facets/facet_grid.py:137: FutureWarning: Index.__and__ operating as a set operation is deprecated, in the future this will be a logical operation matching Series.__and__.  Use index.intersection(other) instead\n",
      "  list(data.columns & self.cols)]\n",
      "/Users/gway/miniconda3/envs/lincs/lib/python3.7/site-packages/plotnine/utils.py:1246: FutureWarning: is_categorical is deprecated and will be removed in a future version.  Use is_categorical_dtype instead\n",
      "  if pdtypes.is_categorical(arr):\n",
      "/Users/gway/miniconda3/envs/lincs/lib/python3.7/site-packages/plotnine/facets/facet_grid.py:136: FutureWarning: Index.__and__ operating as a set operation is deprecated, in the future this will be a logical operation matching Series.__and__.  Use index.intersection(other) instead\n",
      "  margin_vars = [list(data.columns & self.rows),\n",
      "/Users/gway/miniconda3/envs/lincs/lib/python3.7/site-packages/plotnine/facets/facet_grid.py:137: FutureWarning: Index.__and__ operating as a set operation is deprecated, in the future this will be a logical operation matching Series.__and__.  Use index.intersection(other) instead\n",
      "  list(data.columns & self.cols)]\n",
      "/Users/gway/miniconda3/envs/lincs/lib/python3.7/site-packages/plotnine/utils.py:1246: FutureWarning: is_categorical is deprecated and will be removed in a future version.  Use is_categorical_dtype instead\n",
      "  if pdtypes.is_categorical(arr):\n",
      "/Users/gway/miniconda3/envs/lincs/lib/python3.7/site-packages/plotnine/facets/facet_grid.py:136: FutureWarning: Index.__and__ operating as a set operation is deprecated, in the future this will be a logical operation matching Series.__and__.  Use index.intersection(other) instead\n",
      "  margin_vars = [list(data.columns & self.rows),\n",
      "/Users/gway/miniconda3/envs/lincs/lib/python3.7/site-packages/plotnine/facets/facet_grid.py:137: FutureWarning: Index.__and__ operating as a set operation is deprecated, in the future this will be a logical operation matching Series.__and__.  Use index.intersection(other) instead\n",
      "  list(data.columns & self.cols)]\n",
      "/Users/gway/miniconda3/envs/lincs/lib/python3.7/site-packages/plotnine/utils.py:1246: FutureWarning: is_categorical is deprecated and will be removed in a future version.  Use is_categorical_dtype instead\n",
      "  if pdtypes.is_categorical(arr):\n",
      "/Users/gway/miniconda3/envs/lincs/lib/python3.7/site-packages/plotnine/facets/facet_grid.py:136: FutureWarning: Index.__and__ operating as a set operation is deprecated, in the future this will be a logical operation matching Series.__and__.  Use index.intersection(other) instead\n",
      "  margin_vars = [list(data.columns & self.rows),\n",
      "/Users/gway/miniconda3/envs/lincs/lib/python3.7/site-packages/plotnine/facets/facet_grid.py:137: FutureWarning: Index.__and__ operating as a set operation is deprecated, in the future this will be a logical operation matching Series.__and__.  Use index.intersection(other) instead\n",
      "  list(data.columns & self.cols)]\n",
      "/Users/gway/miniconda3/envs/lincs/lib/python3.7/site-packages/plotnine/utils.py:1246: FutureWarning: is_categorical is deprecated and will be removed in a future version.  Use is_categorical_dtype instead\n",
      "  if pdtypes.is_categorical(arr):\n",
      "/Users/gway/miniconda3/envs/lincs/lib/python3.7/site-packages/plotnine/facets/facet_grid.py:136: FutureWarning: Index.__and__ operating as a set operation is deprecated, in the future this will be a logical operation matching Series.__and__.  Use index.intersection(other) instead\n",
      "  margin_vars = [list(data.columns & self.rows),\n",
      "/Users/gway/miniconda3/envs/lincs/lib/python3.7/site-packages/plotnine/facets/facet_grid.py:137: FutureWarning: Index.__and__ operating as a set operation is deprecated, in the future this will be a logical operation matching Series.__and__.  Use index.intersection(other) instead\n",
      "  list(data.columns & self.cols)]\n",
      "/Users/gway/miniconda3/envs/lincs/lib/python3.7/site-packages/plotnine/utils.py:1246: FutureWarning: is_categorical is deprecated and will be removed in a future version.  Use is_categorical_dtype instead\n",
      "  if pdtypes.is_categorical(arr):\n",
      "/Users/gway/miniconda3/envs/lincs/lib/python3.7/site-packages/plotnine/facets/facet_grid.py:136: FutureWarning: Index.__and__ operating as a set operation is deprecated, in the future this will be a logical operation matching Series.__and__.  Use index.intersection(other) instead\n",
      "  margin_vars = [list(data.columns & self.rows),\n",
      "/Users/gway/miniconda3/envs/lincs/lib/python3.7/site-packages/plotnine/facets/facet_grid.py:137: FutureWarning: Index.__and__ operating as a set operation is deprecated, in the future this will be a logical operation matching Series.__and__.  Use index.intersection(other) instead\n",
      "  list(data.columns & self.cols)]\n",
      "/Users/gway/miniconda3/envs/lincs/lib/python3.7/site-packages/plotnine/utils.py:1246: FutureWarning: is_categorical is deprecated and will be removed in a future version.  Use is_categorical_dtype instead\n",
      "  if pdtypes.is_categorical(arr):\n",
      "/Users/gway/miniconda3/envs/lincs/lib/python3.7/site-packages/plotnine/facets/facet_grid.py:136: FutureWarning: Index.__and__ operating as a set operation is deprecated, in the future this will be a logical operation matching Series.__and__.  Use index.intersection(other) instead\n",
      "  margin_vars = [list(data.columns & self.rows),\n",
      "/Users/gway/miniconda3/envs/lincs/lib/python3.7/site-packages/plotnine/facets/facet_grid.py:137: FutureWarning: Index.__and__ operating as a set operation is deprecated, in the future this will be a logical operation matching Series.__and__.  Use index.intersection(other) instead\n",
      "  list(data.columns & self.cols)]\n",
      "/Users/gway/miniconda3/envs/lincs/lib/python3.7/site-packages/plotnine/utils.py:1246: FutureWarning: is_categorical is deprecated and will be removed in a future version.  Use is_categorical_dtype instead\n",
      "  if pdtypes.is_categorical(arr):\n",
      "/Users/gway/miniconda3/envs/lincs/lib/python3.7/site-packages/plotnine/facets/facet_grid.py:136: FutureWarning: Index.__and__ operating as a set operation is deprecated, in the future this will be a logical operation matching Series.__and__.  Use index.intersection(other) instead\n",
      "  margin_vars = [list(data.columns & self.rows),\n",
      "/Users/gway/miniconda3/envs/lincs/lib/python3.7/site-packages/plotnine/facets/facet_grid.py:137: FutureWarning: Index.__and__ operating as a set operation is deprecated, in the future this will be a logical operation matching Series.__and__.  Use index.intersection(other) instead\n",
      "  list(data.columns & self.cols)]\n",
      "/Users/gway/miniconda3/envs/lincs/lib/python3.7/site-packages/plotnine/utils.py:1246: FutureWarning: is_categorical is deprecated and will be removed in a future version.  Use is_categorical_dtype instead\n",
      "  if pdtypes.is_categorical(arr):\n"
     ]
    }
   ],
   "source": [
    "batch = \"2017_12_05_Batch2\"\n",
    "\n",
    "plotlist = []\n",
    "for norm_method in norm_methods:\n",
    "    for color_type in [\n",
    "        \"Metadata_broad_sample\", \"Metadata_Plate\", \"Metadata_cell_line\", \"Metadata_time_point\"\n",
    "    ]:\n",
    "        output_file = pathlib.Path(output_dir[batch], f\"{batch}_{norm_method}_colorby{color_type}.png\")\n",
    "        output_file.parent.mkdir(exist_ok=True)\n",
    "        \n",
    "        label = f\"Batch 2: Normalized by {norm_method.upper()}\\nColored by {color_type}\"\n",
    "\n",
    "        embedding_gg = (\n",
    "            gg.ggplot(embeddings[batch][norm_method], gg.aes(x=\"UMAP_0\", y=\"UMAP_1\"))\n",
    "            + gg.geom_point(gg.aes(color=color_type), size=0.1, alpha=0.2)\n",
    "            + gg.facet_grid(\"~dmso_label\")\n",
    "            + gg.ggtitle(label)\n",
    "            + gg.theme_bw()\n",
    "            + gg.xlab(\"UMAP X\")\n",
    "            + gg.ylab(\"UMAP Y\")\n",
    "            + gg.theme(\n",
    "                legend_position=\"none\",\n",
    "                strip_text=gg.element_text(size=5),\n",
    "                strip_background=gg.element_rect(colour=\"black\", fill=\"#fdfff4\"),\n",
    "                axis_text=gg.element_text(size=6),\n",
    "                axis_title=gg.element_text(size=7),\n",
    "                title=gg.element_text(size=7),\n",
    "                figure_size=(5.5, 3)\n",
    "            )\n",
    "        )\n",
    "        \n",
    "        if color_type in [\"Metadata_cell_line\", \"Metadata_time_point\"]:\n",
    "            embedding_gg = (\n",
    "                embedding_gg\n",
    "                + gg.theme(\n",
    "                    legend_position=\"right\",\n",
    "                    figure_size=(6, 3)\n",
    "                )\n",
    "            )\n",
    "        \n",
    "        plotlist.append(embedding_gg)\n",
    "\n",
    "output_file = pathlib.Path(output_dir[batch], f\"{batch}_UMAPs.pdf\")\n",
    "output_file.parent.mkdir(exist_ok=True)\n",
    "gg.save_as_pdf_pages(plotlist, output_file)"
   ]
  }
 ],
 "metadata": {
  "kernelspec": {
   "display_name": "Python 3",
   "language": "python",
   "name": "python3"
  },
  "language_info": {
   "codemirror_mode": {
    "name": "ipython",
    "version": 3
   },
   "file_extension": ".py",
   "mimetype": "text/x-python",
   "name": "python",
   "nbconvert_exporter": "python",
   "pygments_lexer": "ipython3",
   "version": "3.7.10"
  }
 },
 "nbformat": 4,
 "nbformat_minor": 5
}

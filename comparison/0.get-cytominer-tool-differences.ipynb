{
 "cells": [
  {
   "cell_type": "markdown",
   "metadata": {},
   "source": [
    "# Comparing Pycytominer and Cytominer Processing\n",
    "\n",
    "We have previously processed all of the Drug Repurposing Hub Cell Painting Data using [cytominer](https://github.com/cytomining/cytominer).\n",
    "Cytominer is an R based image-based profiling tool.\n",
    "In this repo, we reprocess the data with [pycytominer](https://github.com/cytomining/pycytominer).\n",
    "As the name connotes, pycytominer is a python based image-based profiling tool.\n",
    "\n",
    "We include all processing scripts and present the pycytominer profiles in this open source repository.\n",
    "The repository represents a unified bioinformatics pipeline applied to all Cell Painting Drug Repurposing Profiles. In this notebook, we compare the resulting output data between the processing pipelines for the two tools: Cytominer and pycytominer.\n",
    "We output several metrics comparing the two approaches\n",
    "\n",
    "## Metrics\n",
    "\n",
    "In all cases, we calculate the element-wise absolute value difference between pycytominer and cytominer profiles.\n",
    "\n",
    "1. Mean, median, and sum of element-wise differencs\n",
    "2. Per feature mean, median, and sum of element-wise differences\n",
    "3. Feature selection procedure differences per feature (level 4b only)\n",
    "\n",
    "In addition, we confirm alignment of the following metadata columns:\n",
    "\n",
    "* Well\n",
    "* Broad Sample Name\n",
    "* Plate\n",
    "\n",
    "Other metadata columns are not expected to be aligned.\n",
    "For example, we have [updated MOA and Target information](https://github.com/broadinstitute/lincs-cell-painting/issues/11) in the pycytominer version.\n",
    "\n",
    "## Data Levels\n",
    "\n",
    "Image-based profiling results in the following output data levels.\n",
    "We do not compare all data levels in this notebook.\n",
    "\n",
    "| Data | Level | Comparison |\n",
    "| :---- | :---- | :-------- |\n",
    "| Images | Level 1 | NA |\n",
    "| SQLite File (single cell profiles ) | Level 2 | NA |\n",
    "| Aggregated Profiles with Well Information (metadata) | Level 3 | Yes  |\n",
    "| Normalized Aggregated Profiles with Metadata | Level 4a | Yes | \n",
    "| Normalized and Feature Selected Aggregated Profiles with Metadata | Level 4b | Yes |\n",
    "| Perturbation Profiles created Summarizing Replicates  | Level 5 | No |"
   ]
  },
  {
   "cell_type": "code",
   "execution_count": 1,
   "metadata": {},
   "outputs": [
    {
     "data": {
      "application/javascript": [
       "\n",
       "            setTimeout(function() {\n",
       "                var nbb_cell_id = 1;\n",
       "                var nbb_unformatted_code = \"%load_ext nb_black\";\n",
       "                var nbb_formatted_code = \"%load_ext nb_black\";\n",
       "                var nbb_cells = Jupyter.notebook.get_cells();\n",
       "                for (var i = 0; i < nbb_cells.length; ++i) {\n",
       "                    if (nbb_cells[i].input_prompt_number == nbb_cell_id) {\n",
       "                        if (nbb_cells[i].get_text() == nbb_unformatted_code) {\n",
       "                             nbb_cells[i].set_text(nbb_formatted_code);\n",
       "                        }\n",
       "                        break;\n",
       "                    }\n",
       "                }\n",
       "            }, 500);\n",
       "            "
      ],
      "text/plain": [
       "<IPython.core.display.Javascript object>"
      ]
     },
     "metadata": {},
     "output_type": "display_data"
    }
   ],
   "source": [
    "%load_ext nb_black"
   ]
  },
  {
   "cell_type": "code",
   "execution_count": 2,
   "metadata": {},
   "outputs": [
    {
     "data": {
      "application/javascript": [
       "\n",
       "            setTimeout(function() {\n",
       "                var nbb_cell_id = 2;\n",
       "                var nbb_unformatted_code = \"import os\\nimport pathlib\\nimport numpy as np\\nimport pandas as pd\\n\\nfrom util import build_file_dictionary, load_data, build_filenames\";\n",
       "                var nbb_formatted_code = \"import os\\nimport pathlib\\nimport numpy as np\\nimport pandas as pd\\n\\nfrom util import build_file_dictionary, load_data, build_filenames\";\n",
       "                var nbb_cells = Jupyter.notebook.get_cells();\n",
       "                for (var i = 0; i < nbb_cells.length; ++i) {\n",
       "                    if (nbb_cells[i].input_prompt_number == nbb_cell_id) {\n",
       "                        if (nbb_cells[i].get_text() == nbb_unformatted_code) {\n",
       "                             nbb_cells[i].set_text(nbb_formatted_code);\n",
       "                        }\n",
       "                        break;\n",
       "                    }\n",
       "                }\n",
       "            }, 500);\n",
       "            "
      ],
      "text/plain": [
       "<IPython.core.display.Javascript object>"
      ]
     },
     "metadata": {},
     "output_type": "display_data"
    }
   ],
   "source": [
    "import os\n",
    "import pathlib\n",
    "import numpy as np\n",
    "import pandas as pd\n",
    "\n",
    "from util import build_file_dictionary, load_data, build_filenames"
   ]
  },
  {
   "cell_type": "code",
   "execution_count": 3,
   "metadata": {},
   "outputs": [
    {
     "data": {
      "application/javascript": [
       "\n",
       "            setTimeout(function() {\n",
       "                var nbb_cell_id = 3;\n",
       "                var nbb_unformatted_code = \"def get_metrics(pycyto_df, cyto_df, features):\\n    # Align features\\n    pycyto_df = pycyto_df.reindex(features, axis=\\\"columns\\\")\\n    cyto_df = cyto_df.reindex(features, axis=\\\"columns\\\")\\n\\n    # Assess difference\\n    abs_diff = pycyto_df.subtract(cyto_df).abs()\\n    mean_diff = abs_diff.mean()\\n    median_diff = abs_diff.median()\\n    sum_diff = abs_diff.sum()\\n\\n    complete_mean_diff = mean_diff.replace([np.inf, -np.inf], np.nan).dropna().mean()\\n    complete_median_diff = (\\n        median_diff.replace([np.inf, -np.inf], np.nan).dropna().mean()\\n    )\\n    complete_sum_diff = sum_diff.replace([np.inf, -np.inf], np.nan).dropna().sum()\\n\\n    return (\\n        mean_diff,\\n        complete_mean_diff,\\n        median_diff,\\n        complete_median_diff,\\n        sum_diff,\\n        complete_sum_diff,\\n    )\\n\\n\\ndef find_feature_diff(pycyto_df, cyto_df, plate, all_features):\\n    all_features_df = pd.DataFrame(\\n        [\\\"missing\\\"] * len(all_features), index=all_features, columns=[plate]\\n    )\\n    pycyto_features = set(pycyto_df.columns.tolist())\\n    cyto_features = set(cyto_df.columns.tolist())\\n    present_both = pycyto_features.intersection(cyto_features)\\n\\n    all_features_df.loc[\\n        all_features_df.index.isin(pycyto_features), plate\\n    ] = \\\"only_pycytominer\\\"\\n    all_features_df.loc[\\n        all_features_df.index.isin(cyto_features), plate\\n    ] = \\\"only_cytominer\\\"\\n    all_features_df.loc[\\n        all_features_df.index.isin(present_both), plate\\n    ] = \\\"present_both\\\"\\n\\n    return all_features_df\";\n",
       "                var nbb_formatted_code = \"def get_metrics(pycyto_df, cyto_df, features):\\n    # Align features\\n    pycyto_df = pycyto_df.reindex(features, axis=\\\"columns\\\")\\n    cyto_df = cyto_df.reindex(features, axis=\\\"columns\\\")\\n\\n    # Assess difference\\n    abs_diff = pycyto_df.subtract(cyto_df).abs()\\n    mean_diff = abs_diff.mean()\\n    median_diff = abs_diff.median()\\n    sum_diff = abs_diff.sum()\\n\\n    complete_mean_diff = mean_diff.replace([np.inf, -np.inf], np.nan).dropna().mean()\\n    complete_median_diff = (\\n        median_diff.replace([np.inf, -np.inf], np.nan).dropna().mean()\\n    )\\n    complete_sum_diff = sum_diff.replace([np.inf, -np.inf], np.nan).dropna().sum()\\n\\n    return (\\n        mean_diff,\\n        complete_mean_diff,\\n        median_diff,\\n        complete_median_diff,\\n        sum_diff,\\n        complete_sum_diff,\\n    )\\n\\n\\ndef find_feature_diff(pycyto_df, cyto_df, plate, all_features):\\n    all_features_df = pd.DataFrame(\\n        [\\\"missing\\\"] * len(all_features), index=all_features, columns=[plate]\\n    )\\n    pycyto_features = set(pycyto_df.columns.tolist())\\n    cyto_features = set(cyto_df.columns.tolist())\\n    present_both = pycyto_features.intersection(cyto_features)\\n\\n    all_features_df.loc[\\n        all_features_df.index.isin(pycyto_features), plate\\n    ] = \\\"only_pycytominer\\\"\\n    all_features_df.loc[\\n        all_features_df.index.isin(cyto_features), plate\\n    ] = \\\"only_cytominer\\\"\\n    all_features_df.loc[\\n        all_features_df.index.isin(present_both), plate\\n    ] = \\\"present_both\\\"\\n\\n    return all_features_df\";\n",
       "                var nbb_cells = Jupyter.notebook.get_cells();\n",
       "                for (var i = 0; i < nbb_cells.length; ++i) {\n",
       "                    if (nbb_cells[i].input_prompt_number == nbb_cell_id) {\n",
       "                        if (nbb_cells[i].get_text() == nbb_unformatted_code) {\n",
       "                             nbb_cells[i].set_text(nbb_formatted_code);\n",
       "                        }\n",
       "                        break;\n",
       "                    }\n",
       "                }\n",
       "            }, 500);\n",
       "            "
      ],
      "text/plain": [
       "<IPython.core.display.Javascript object>"
      ]
     },
     "metadata": {},
     "output_type": "display_data"
    }
   ],
   "source": [
    "def get_metrics(pycyto_df, cyto_df, features):\n",
    "    # Align features\n",
    "    pycyto_df = pycyto_df.reindex(features, axis=\"columns\")\n",
    "    cyto_df = cyto_df.reindex(features, axis=\"columns\")\n",
    "\n",
    "    # Assess difference\n",
    "    abs_diff = pycyto_df.subtract(cyto_df).abs()\n",
    "    mean_diff = abs_diff.mean()\n",
    "    median_diff = abs_diff.median()\n",
    "    sum_diff = abs_diff.sum()\n",
    "\n",
    "    complete_mean_diff = mean_diff.replace([np.inf, -np.inf], np.nan).dropna().mean()\n",
    "    complete_median_diff = (\n",
    "        median_diff.replace([np.inf, -np.inf], np.nan).dropna().mean()\n",
    "    )\n",
    "    complete_sum_diff = sum_diff.replace([np.inf, -np.inf], np.nan).dropna().sum()\n",
    "\n",
    "    return (\n",
    "        mean_diff,\n",
    "        complete_mean_diff,\n",
    "        median_diff,\n",
    "        complete_median_diff,\n",
    "        sum_diff,\n",
    "        complete_sum_diff,\n",
    "    )\n",
    "\n",
    "\n",
    "def find_feature_diff(pycyto_df, cyto_df, plate, all_features):\n",
    "    all_features_df = pd.DataFrame(\n",
    "        [\"missing\"] * len(all_features), index=all_features, columns=[plate]\n",
    "    )\n",
    "    pycyto_features = set(pycyto_df.columns.tolist())\n",
    "    cyto_features = set(cyto_df.columns.tolist())\n",
    "    present_both = pycyto_features.intersection(cyto_features)\n",
    "\n",
    "    all_features_df.loc[\n",
    "        all_features_df.index.isin(pycyto_features), plate\n",
    "    ] = \"only_pycytominer\"\n",
    "    all_features_df.loc[\n",
    "        all_features_df.index.isin(cyto_features), plate\n",
    "    ] = \"only_cytominer\"\n",
    "    all_features_df.loc[\n",
    "        all_features_df.index.isin(present_both), plate\n",
    "    ] = \"present_both\"\n",
    "\n",
    "    return all_features_df"
   ]
  },
  {
   "cell_type": "code",
   "execution_count": 4,
   "metadata": {},
   "outputs": [
    {
     "data": {
      "application/javascript": [
       "\n",
       "            setTimeout(function() {\n",
       "                var nbb_cell_id = 4;\n",
       "                var nbb_unformatted_code = \"# Set batch name\\nproject = \\\"2015_10_05_DrugRepurposing_AravindSubramanian_GolubLab_Broad\\\"\\nbatch = \\\"2016_04_01_a549_48hr_batch1\\\"\\n\\n# Pycytominer plates are saved with 5 floating point decimals\\nround_decimals = 5\\n\\n# Create the output directory\\noutput_dir = pathlib.Path(\\\"results\\\", batch)\\noutput_dir.mkdir(parents=True, exist_ok=True)\";\n",
       "                var nbb_formatted_code = \"# Set batch name\\nproject = \\\"2015_10_05_DrugRepurposing_AravindSubramanian_GolubLab_Broad\\\"\\nbatch = \\\"2016_04_01_a549_48hr_batch1\\\"\\n\\n# Pycytominer plates are saved with 5 floating point decimals\\nround_decimals = 5\\n\\n# Create the output directory\\noutput_dir = pathlib.Path(\\\"results\\\", batch)\\noutput_dir.mkdir(parents=True, exist_ok=True)\";\n",
       "                var nbb_cells = Jupyter.notebook.get_cells();\n",
       "                for (var i = 0; i < nbb_cells.length; ++i) {\n",
       "                    if (nbb_cells[i].input_prompt_number == nbb_cell_id) {\n",
       "                        if (nbb_cells[i].get_text() == nbb_unformatted_code) {\n",
       "                             nbb_cells[i].set_text(nbb_formatted_code);\n",
       "                        }\n",
       "                        break;\n",
       "                    }\n",
       "                }\n",
       "            }, 500);\n",
       "            "
      ],
      "text/plain": [
       "<IPython.core.display.Javascript object>"
      ]
     },
     "metadata": {},
     "output_type": "display_data"
    }
   ],
   "source": [
    "# Set batch name\n",
    "project = \"2015_10_05_DrugRepurposing_AravindSubramanian_GolubLab_Broad\"\n",
    "batch = \"2016_04_01_a549_48hr_batch1\"\n",
    "\n",
    "# Pycytominer plates are saved with 5 floating point decimals\n",
    "round_decimals = 5\n",
    "\n",
    "# Create the output directory\n",
    "output_dir = pathlib.Path(\"results\", batch)\n",
    "output_dir.mkdir(parents=True, exist_ok=True)"
   ]
  },
  {
   "cell_type": "code",
   "execution_count": 5,
   "metadata": {},
   "outputs": [
    {
     "data": {
      "application/javascript": [
       "\n",
       "            setTimeout(function() {\n",
       "                var nbb_cell_id = 5;\n",
       "                var nbb_unformatted_code = \"# Set input directories\\n# Note, pycytominer profiles are processed and exist in this repository\\npycytominer_dir = pathlib.Path(\\\"../profiles/backend/\\\", batch)\\n\\n# Note, cytominer profiles were processed separately and exist in many different locations.\\n# This location represents the exact files that were previously profiled using cytominer.\\n# The files were deposited on the Imaging Platform AWS S3 Bucket and downloaded locally.\\n# To reproduce the analysis, update the appropriate cytominer path.\\nhome_dir = pycytominer_dir.home()\\ncytominer_dir = pathlib.Path(\\n    f\\\"{home_dir}/work/projects/{project}/workspace/backend/{batch}/\\\"\\n)\";\n",
       "                var nbb_formatted_code = \"# Set input directories\\n# Note, pycytominer profiles are processed and exist in this repository\\npycytominer_dir = pathlib.Path(\\\"../profiles/backend/\\\", batch)\\n\\n# Note, cytominer profiles were processed separately and exist in many different locations.\\n# This location represents the exact files that were previously profiled using cytominer.\\n# The files were deposited on the Imaging Platform AWS S3 Bucket and downloaded locally.\\n# To reproduce the analysis, update the appropriate cytominer path.\\nhome_dir = pycytominer_dir.home()\\ncytominer_dir = pathlib.Path(\\n    f\\\"{home_dir}/work/projects/{project}/workspace/backend/{batch}/\\\"\\n)\";\n",
       "                var nbb_cells = Jupyter.notebook.get_cells();\n",
       "                for (var i = 0; i < nbb_cells.length; ++i) {\n",
       "                    if (nbb_cells[i].input_prompt_number == nbb_cell_id) {\n",
       "                        if (nbb_cells[i].get_text() == nbb_unformatted_code) {\n",
       "                             nbb_cells[i].set_text(nbb_formatted_code);\n",
       "                        }\n",
       "                        break;\n",
       "                    }\n",
       "                }\n",
       "            }, 500);\n",
       "            "
      ],
      "text/plain": [
       "<IPython.core.display.Javascript object>"
      ]
     },
     "metadata": {},
     "output_type": "display_data"
    }
   ],
   "source": [
    "# Set input directories\n",
    "# Note, pycytominer profiles are processed and exist in this repository\n",
    "pycytominer_dir = pathlib.Path(\"../profiles/backend/\", batch)\n",
    "\n",
    "# Note, cytominer profiles were processed separately and exist in many different locations.\n",
    "# This location represents the exact files that were previously profiled using cytominer.\n",
    "# The files were deposited on the Imaging Platform AWS S3 Bucket and downloaded locally.\n",
    "# To reproduce the analysis, update the appropriate cytominer path.\n",
    "home_dir = pycytominer_dir.home()\n",
    "cytominer_dir = pathlib.Path(\n",
    "    f\"{home_dir}/work/projects/{project}/workspace/backend/{batch}/\"\n",
    ")"
   ]
  },
  {
   "cell_type": "code",
   "execution_count": 6,
   "metadata": {},
   "outputs": [
    {
     "data": {
      "application/javascript": [
       "\n",
       "            setTimeout(function() {\n",
       "                var nbb_cell_id = 6;\n",
       "                var nbb_unformatted_code = \"pycytominer_plate_files = build_file_dictionary(pycytominer_dir, tool=\\\"pycytominer\\\")\\ncytominer_plate_files = build_file_dictionary(cytominer_dir, tool=\\\"cytominer\\\")\";\n",
       "                var nbb_formatted_code = \"pycytominer_plate_files = build_file_dictionary(pycytominer_dir, tool=\\\"pycytominer\\\")\\ncytominer_plate_files = build_file_dictionary(cytominer_dir, tool=\\\"cytominer\\\")\";\n",
       "                var nbb_cells = Jupyter.notebook.get_cells();\n",
       "                for (var i = 0; i < nbb_cells.length; ++i) {\n",
       "                    if (nbb_cells[i].input_prompt_number == nbb_cell_id) {\n",
       "                        if (nbb_cells[i].get_text() == nbb_unformatted_code) {\n",
       "                             nbb_cells[i].set_text(nbb_formatted_code);\n",
       "                        }\n",
       "                        break;\n",
       "                    }\n",
       "                }\n",
       "            }, 500);\n",
       "            "
      ],
      "text/plain": [
       "<IPython.core.display.Javascript object>"
      ]
     },
     "metadata": {},
     "output_type": "display_data"
    }
   ],
   "source": [
    "pycytominer_plate_files = build_file_dictionary(pycytominer_dir, tool=\"pycytominer\")\n",
    "cytominer_plate_files = build_file_dictionary(cytominer_dir, tool=\"cytominer\")"
   ]
  },
  {
   "cell_type": "code",
   "execution_count": 7,
   "metadata": {},
   "outputs": [
    {
     "name": "stdout",
     "output_type": "stream",
     "text": [
      "136\n"
     ]
    },
    {
     "data": {
      "application/javascript": [
       "\n",
       "            setTimeout(function() {\n",
       "                var nbb_cell_id = 7;\n",
       "                var nbb_unformatted_code = \"pycytominer_plates = set(sorted(pycytominer_plate_files.keys()))\\ncytominer_plates = set(sorted(cytominer_plate_files.keys()))\\n\\nassert (\\n    cytominer_plates == pycytominer_plates\\n), \\\"Stop, not every plate is measured using both tools\\\"\\n\\nprint(len(pycytominer_plates))\";\n",
       "                var nbb_formatted_code = \"pycytominer_plates = set(sorted(pycytominer_plate_files.keys()))\\ncytominer_plates = set(sorted(cytominer_plate_files.keys()))\\n\\nassert (\\n    cytominer_plates == pycytominer_plates\\n), \\\"Stop, not every plate is measured using both tools\\\"\\n\\nprint(len(pycytominer_plates))\";\n",
       "                var nbb_cells = Jupyter.notebook.get_cells();\n",
       "                for (var i = 0; i < nbb_cells.length; ++i) {\n",
       "                    if (nbb_cells[i].input_prompt_number == nbb_cell_id) {\n",
       "                        if (nbb_cells[i].get_text() == nbb_unformatted_code) {\n",
       "                             nbb_cells[i].set_text(nbb_formatted_code);\n",
       "                        }\n",
       "                        break;\n",
       "                    }\n",
       "                }\n",
       "            }, 500);\n",
       "            "
      ],
      "text/plain": [
       "<IPython.core.display.Javascript object>"
      ]
     },
     "metadata": {},
     "output_type": "display_data"
    }
   ],
   "source": [
    "pycytominer_plates = set(sorted(pycytominer_plate_files.keys()))\n",
    "cytominer_plates = set(sorted(cytominer_plate_files.keys()))\n",
    "\n",
    "assert (\n",
    "    cytominer_plates == pycytominer_plates\n",
    "), \"Stop, not every plate is measured using both tools\"\n",
    "\n",
    "print(len(pycytominer_plates))"
   ]
  },
  {
   "cell_type": "code",
   "execution_count": 8,
   "metadata": {},
   "outputs": [
    {
     "name": "stderr",
     "output_type": "stream",
     "text": [
      "/Users/gway/miniconda3/envs/lincs/lib/python3.7/site-packages/numpy/lib/nanfunctions.py:1116: RuntimeWarning: All-NaN slice encountered\n",
      "  overwrite_input=overwrite_input)\n"
     ]
    },
    {
     "data": {
      "application/javascript": [
       "\n",
       "            setTimeout(function() {\n",
       "                var nbb_cell_id = 8;\n",
       "                var nbb_unformatted_code = \"level_3_mean_diff = []\\nlevel_3_completemean_diff = {}\\nlevel_3_median_diff = []\\nlevel_3_completemedian_diff = {}\\nlevel_3_sum_diff = []\\nlevel_3_completesum_diff = {}\\n\\nlevel_4a_mean_diff = []\\nlevel_4a_completemean_diff = {}\\nlevel_4a_median_diff = []\\nlevel_4a_completemedian_diff = {}\\nlevel_4a_sum_diff = []\\nlevel_4a_completesum_diff = {}\\n\\nlevel_4b_mean_diff = []\\nlevel_4b_completemean_diff = {}\\nlevel_4b_sum_diff = []\\nlevel_4b_median_diff = []\\nlevel_4b_completemedian_diff = {}\\nlevel_4b_completesum_diff = {}\\nlevel_4b_feature_select = []\\n\\ntest_pycytominer_select_mean_diff = []\\ntest_pycytominer_select_completemean_diff = {}\\ntest_pycytominer_select_sum_diff = []\\ntest_pycytominer_select_median_diff = []\\ntest_pycytominer_select_completemedian_diff = {}\\ntest_pycytominer_select_completesum_diff = {}\\ntest_pycytominer_select_feature_select = []\\n\\n# Calculate metrics per plate\\nfor plate in list(cytominer_plates):\\n    # Calculate level 3 metrics\\n    pycyto_df, cyto_df = load_data(\\n        plate,\\n        pycytominer_plate_files,\\n        cytominer_plate_files,\\n        level=\\\"level_3\\\",\\n        round_decimals=round_decimals,\\n    )\\n    # Define features (note that the features were checked and aligned in load_data)\\n    features = pycyto_df.columns.tolist()\\n    # Get differences\\n    (\\n        mean_diff,\\n        complete_mean_diff,\\n        median_diff,\\n        complete_median_diff,\\n        sum_diff,\\n        complete_sum_diff,\\n    ) = get_metrics(pycyto_df, cyto_df, features)\\n    # Store results\\n    level_3_mean_diff.append(mean_diff)\\n    level_3_completemean_diff[plate] = complete_mean_diff\\n    level_3_median_diff.append(median_diff)\\n    level_3_completemedian_diff[plate] = complete_median_diff\\n    level_3_sum_diff.append(sum_diff)\\n    level_3_completesum_diff[plate] = complete_sum_diff\\n\\n    # Calculate level 4a metrics\\n    pycyto_df, cyto_df = load_data(\\n        plate,\\n        pycytominer_plate_files,\\n        cytominer_plate_files,\\n        level=\\\"level_4a\\\",\\n        round_decimals=round_decimals,\\n    )\\n    # Get differences\\n    (\\n        mean_diff,\\n        complete_mean_diff,\\n        median_diff,\\n        complete_median_diff,\\n        sum_diff,\\n        complete_sum_diff,\\n    ) = get_metrics(pycyto_df, cyto_df, features)\\n    # Store results\\n    level_4a_mean_diff.append(mean_diff)\\n    level_4a_completemean_diff[plate] = complete_mean_diff\\n    level_4a_median_diff.append(median_diff)\\n    level_4a_completemedian_diff[plate] = complete_median_diff\\n    level_4a_sum_diff.append(sum_diff)\\n    level_4a_completesum_diff[plate] = complete_sum_diff\\n\\n    # Calculate level 4b metrics\\n    pycyto_df, cyto_df = load_data(\\n        plate,\\n        pycytominer_plate_files,\\n        cytominer_plate_files,\\n        level=\\\"level_4b\\\",\\n        round_decimals=round_decimals,\\n    )\\n    # Determine feature selection differences\\n    feature_select_df = find_feature_diff(pycyto_df, cyto_df, plate, features)\\n    features_present_in_both = feature_select_df.loc[\\n        feature_select_df.loc[:, plate] == \\\"present_both\\\", plate\\n    ].index.tolist()\\n    # Get differences\\n    (\\n        mean_diff,\\n        complete_mean_diff,\\n        median_diff,\\n        complete_median_diff,\\n        sum_diff,\\n        complete_sum_diff,\\n    ) = get_metrics(pycyto_df, cyto_df, features_present_in_both)\\n    # Store results\\n    level_4b_mean_diff.append(mean_diff)\\n    level_4b_completemean_diff[plate] = complete_mean_diff\\n    level_4b_median_diff.append(median_diff)\\n    level_4b_completemedian_diff[plate] = complete_median_diff\\n    level_4b_sum_diff.append(sum_diff)\\n    level_4b_completesum_diff[plate] = complete_sum_diff\\n    level_4b_feature_select.append(feature_select_df)\\n\\n    # Test pycytominer feature selection\\n    pycyto_df, cyto_df = load_data(\\n        plate,\\n        pycytominer_plate_files,\\n        cytominer_plate_files,\\n        level=\\\"pycytominer_select\\\",\\n        round_decimals=round_decimals,\\n    )\\n    # Define features (note that the features were checked and aligned in load_data)\\n    features = pycyto_df.columns.tolist()\\n    # Get differences\\n    (\\n        mean_diff,\\n        complete_mean_diff,\\n        median_diff,\\n        complete_median_diff,\\n        sum_diff,\\n        complete_sum_diff,\\n    ) = get_metrics(pycyto_df, cyto_df, features)\\n    # Store results\\n    test_pycytominer_select_mean_diff.append(mean_diff)\\n    test_pycytominer_select_completemean_diff[plate] = complete_mean_diff\\n    test_pycytominer_select_median_diff.append(median_diff)\\n    test_pycytominer_select_completemedian_diff[plate] = complete_median_diff\\n    test_pycytominer_select_sum_diff.append(sum_diff)\\n    test_pycytominer_select_completesum_diff[plate] = complete_sum_diff\";\n",
       "                var nbb_formatted_code = \"level_3_mean_diff = []\\nlevel_3_completemean_diff = {}\\nlevel_3_median_diff = []\\nlevel_3_completemedian_diff = {}\\nlevel_3_sum_diff = []\\nlevel_3_completesum_diff = {}\\n\\nlevel_4a_mean_diff = []\\nlevel_4a_completemean_diff = {}\\nlevel_4a_median_diff = []\\nlevel_4a_completemedian_diff = {}\\nlevel_4a_sum_diff = []\\nlevel_4a_completesum_diff = {}\\n\\nlevel_4b_mean_diff = []\\nlevel_4b_completemean_diff = {}\\nlevel_4b_sum_diff = []\\nlevel_4b_median_diff = []\\nlevel_4b_completemedian_diff = {}\\nlevel_4b_completesum_diff = {}\\nlevel_4b_feature_select = []\\n\\ntest_pycytominer_select_mean_diff = []\\ntest_pycytominer_select_completemean_diff = {}\\ntest_pycytominer_select_sum_diff = []\\ntest_pycytominer_select_median_diff = []\\ntest_pycytominer_select_completemedian_diff = {}\\ntest_pycytominer_select_completesum_diff = {}\\ntest_pycytominer_select_feature_select = []\\n\\n# Calculate metrics per plate\\nfor plate in list(cytominer_plates):\\n    # Calculate level 3 metrics\\n    pycyto_df, cyto_df = load_data(\\n        plate,\\n        pycytominer_plate_files,\\n        cytominer_plate_files,\\n        level=\\\"level_3\\\",\\n        round_decimals=round_decimals,\\n    )\\n    # Define features (note that the features were checked and aligned in load_data)\\n    features = pycyto_df.columns.tolist()\\n    # Get differences\\n    (\\n        mean_diff,\\n        complete_mean_diff,\\n        median_diff,\\n        complete_median_diff,\\n        sum_diff,\\n        complete_sum_diff,\\n    ) = get_metrics(pycyto_df, cyto_df, features)\\n    # Store results\\n    level_3_mean_diff.append(mean_diff)\\n    level_3_completemean_diff[plate] = complete_mean_diff\\n    level_3_median_diff.append(median_diff)\\n    level_3_completemedian_diff[plate] = complete_median_diff\\n    level_3_sum_diff.append(sum_diff)\\n    level_3_completesum_diff[plate] = complete_sum_diff\\n\\n    # Calculate level 4a metrics\\n    pycyto_df, cyto_df = load_data(\\n        plate,\\n        pycytominer_plate_files,\\n        cytominer_plate_files,\\n        level=\\\"level_4a\\\",\\n        round_decimals=round_decimals,\\n    )\\n    # Get differences\\n    (\\n        mean_diff,\\n        complete_mean_diff,\\n        median_diff,\\n        complete_median_diff,\\n        sum_diff,\\n        complete_sum_diff,\\n    ) = get_metrics(pycyto_df, cyto_df, features)\\n    # Store results\\n    level_4a_mean_diff.append(mean_diff)\\n    level_4a_completemean_diff[plate] = complete_mean_diff\\n    level_4a_median_diff.append(median_diff)\\n    level_4a_completemedian_diff[plate] = complete_median_diff\\n    level_4a_sum_diff.append(sum_diff)\\n    level_4a_completesum_diff[plate] = complete_sum_diff\\n\\n    # Calculate level 4b metrics\\n    pycyto_df, cyto_df = load_data(\\n        plate,\\n        pycytominer_plate_files,\\n        cytominer_plate_files,\\n        level=\\\"level_4b\\\",\\n        round_decimals=round_decimals,\\n    )\\n    # Determine feature selection differences\\n    feature_select_df = find_feature_diff(pycyto_df, cyto_df, plate, features)\\n    features_present_in_both = feature_select_df.loc[\\n        feature_select_df.loc[:, plate] == \\\"present_both\\\", plate\\n    ].index.tolist()\\n    # Get differences\\n    (\\n        mean_diff,\\n        complete_mean_diff,\\n        median_diff,\\n        complete_median_diff,\\n        sum_diff,\\n        complete_sum_diff,\\n    ) = get_metrics(pycyto_df, cyto_df, features_present_in_both)\\n    # Store results\\n    level_4b_mean_diff.append(mean_diff)\\n    level_4b_completemean_diff[plate] = complete_mean_diff\\n    level_4b_median_diff.append(median_diff)\\n    level_4b_completemedian_diff[plate] = complete_median_diff\\n    level_4b_sum_diff.append(sum_diff)\\n    level_4b_completesum_diff[plate] = complete_sum_diff\\n    level_4b_feature_select.append(feature_select_df)\\n\\n    # Test pycytominer feature selection\\n    pycyto_df, cyto_df = load_data(\\n        plate,\\n        pycytominer_plate_files,\\n        cytominer_plate_files,\\n        level=\\\"pycytominer_select\\\",\\n        round_decimals=round_decimals,\\n    )\\n    # Define features (note that the features were checked and aligned in load_data)\\n    features = pycyto_df.columns.tolist()\\n    # Get differences\\n    (\\n        mean_diff,\\n        complete_mean_diff,\\n        median_diff,\\n        complete_median_diff,\\n        sum_diff,\\n        complete_sum_diff,\\n    ) = get_metrics(pycyto_df, cyto_df, features)\\n    # Store results\\n    test_pycytominer_select_mean_diff.append(mean_diff)\\n    test_pycytominer_select_completemean_diff[plate] = complete_mean_diff\\n    test_pycytominer_select_median_diff.append(median_diff)\\n    test_pycytominer_select_completemedian_diff[plate] = complete_median_diff\\n    test_pycytominer_select_sum_diff.append(sum_diff)\\n    test_pycytominer_select_completesum_diff[plate] = complete_sum_diff\";\n",
       "                var nbb_cells = Jupyter.notebook.get_cells();\n",
       "                for (var i = 0; i < nbb_cells.length; ++i) {\n",
       "                    if (nbb_cells[i].input_prompt_number == nbb_cell_id) {\n",
       "                        if (nbb_cells[i].get_text() == nbb_unformatted_code) {\n",
       "                             nbb_cells[i].set_text(nbb_formatted_code);\n",
       "                        }\n",
       "                        break;\n",
       "                    }\n",
       "                }\n",
       "            }, 500);\n",
       "            "
      ],
      "text/plain": [
       "<IPython.core.display.Javascript object>"
      ]
     },
     "metadata": {},
     "output_type": "display_data"
    }
   ],
   "source": [
    "level_3_mean_diff = []\n",
    "level_3_completemean_diff = {}\n",
    "level_3_median_diff = []\n",
    "level_3_completemedian_diff = {}\n",
    "level_3_sum_diff = []\n",
    "level_3_completesum_diff = {}\n",
    "\n",
    "level_4a_mean_diff = []\n",
    "level_4a_completemean_diff = {}\n",
    "level_4a_median_diff = []\n",
    "level_4a_completemedian_diff = {}\n",
    "level_4a_sum_diff = []\n",
    "level_4a_completesum_diff = {}\n",
    "\n",
    "level_4b_mean_diff = []\n",
    "level_4b_completemean_diff = {}\n",
    "level_4b_sum_diff = []\n",
    "level_4b_median_diff = []\n",
    "level_4b_completemedian_diff = {}\n",
    "level_4b_completesum_diff = {}\n",
    "level_4b_feature_select = []\n",
    "\n",
    "test_pycytominer_select_mean_diff = []\n",
    "test_pycytominer_select_completemean_diff = {}\n",
    "test_pycytominer_select_sum_diff = []\n",
    "test_pycytominer_select_median_diff = []\n",
    "test_pycytominer_select_completemedian_diff = {}\n",
    "test_pycytominer_select_completesum_diff = {}\n",
    "test_pycytominer_select_feature_select = []\n",
    "\n",
    "# Calculate metrics per plate\n",
    "for plate in list(cytominer_plates):\n",
    "    # Calculate level 3 metrics\n",
    "    pycyto_df, cyto_df = load_data(\n",
    "        plate,\n",
    "        pycytominer_plate_files,\n",
    "        cytominer_plate_files,\n",
    "        level=\"level_3\",\n",
    "        round_decimals=round_decimals,\n",
    "    )\n",
    "    # Define features (note that the features were checked and aligned in load_data)\n",
    "    features = pycyto_df.columns.tolist()\n",
    "    # Get differences\n",
    "    (\n",
    "        mean_diff,\n",
    "        complete_mean_diff,\n",
    "        median_diff,\n",
    "        complete_median_diff,\n",
    "        sum_diff,\n",
    "        complete_sum_diff,\n",
    "    ) = get_metrics(pycyto_df, cyto_df, features)\n",
    "    # Store results\n",
    "    level_3_mean_diff.append(mean_diff)\n",
    "    level_3_completemean_diff[plate] = complete_mean_diff\n",
    "    level_3_median_diff.append(median_diff)\n",
    "    level_3_completemedian_diff[plate] = complete_median_diff\n",
    "    level_3_sum_diff.append(sum_diff)\n",
    "    level_3_completesum_diff[plate] = complete_sum_diff\n",
    "\n",
    "    # Calculate level 4a metrics\n",
    "    pycyto_df, cyto_df = load_data(\n",
    "        plate,\n",
    "        pycytominer_plate_files,\n",
    "        cytominer_plate_files,\n",
    "        level=\"level_4a\",\n",
    "        round_decimals=round_decimals,\n",
    "    )\n",
    "    # Get differences\n",
    "    (\n",
    "        mean_diff,\n",
    "        complete_mean_diff,\n",
    "        median_diff,\n",
    "        complete_median_diff,\n",
    "        sum_diff,\n",
    "        complete_sum_diff,\n",
    "    ) = get_metrics(pycyto_df, cyto_df, features)\n",
    "    # Store results\n",
    "    level_4a_mean_diff.append(mean_diff)\n",
    "    level_4a_completemean_diff[plate] = complete_mean_diff\n",
    "    level_4a_median_diff.append(median_diff)\n",
    "    level_4a_completemedian_diff[plate] = complete_median_diff\n",
    "    level_4a_sum_diff.append(sum_diff)\n",
    "    level_4a_completesum_diff[plate] = complete_sum_diff\n",
    "\n",
    "    # Calculate level 4b metrics\n",
    "    pycyto_df, cyto_df = load_data(\n",
    "        plate,\n",
    "        pycytominer_plate_files,\n",
    "        cytominer_plate_files,\n",
    "        level=\"level_4b\",\n",
    "        round_decimals=round_decimals,\n",
    "    )\n",
    "    # Determine feature selection differences\n",
    "    feature_select_df = find_feature_diff(pycyto_df, cyto_df, plate, features)\n",
    "    features_present_in_both = feature_select_df.loc[\n",
    "        feature_select_df.loc[:, plate] == \"present_both\", plate\n",
    "    ].index.tolist()\n",
    "    # Get differences\n",
    "    (\n",
    "        mean_diff,\n",
    "        complete_mean_diff,\n",
    "        median_diff,\n",
    "        complete_median_diff,\n",
    "        sum_diff,\n",
    "        complete_sum_diff,\n",
    "    ) = get_metrics(pycyto_df, cyto_df, features_present_in_both)\n",
    "    # Store results\n",
    "    level_4b_mean_diff.append(mean_diff)\n",
    "    level_4b_completemean_diff[plate] = complete_mean_diff\n",
    "    level_4b_median_diff.append(median_diff)\n",
    "    level_4b_completemedian_diff[plate] = complete_median_diff\n",
    "    level_4b_sum_diff.append(sum_diff)\n",
    "    level_4b_completesum_diff[plate] = complete_sum_diff\n",
    "    level_4b_feature_select.append(feature_select_df)\n",
    "\n",
    "    # Test pycytominer feature selection\n",
    "    pycyto_df, cyto_df = load_data(\n",
    "        plate,\n",
    "        pycytominer_plate_files,\n",
    "        cytominer_plate_files,\n",
    "        level=\"pycytominer_select\",\n",
    "        round_decimals=round_decimals,\n",
    "    )\n",
    "    # Define features (note that the features were checked and aligned in load_data)\n",
    "    features = pycyto_df.columns.tolist()\n",
    "    # Get differences\n",
    "    (\n",
    "        mean_diff,\n",
    "        complete_mean_diff,\n",
    "        median_diff,\n",
    "        complete_median_diff,\n",
    "        sum_diff,\n",
    "        complete_sum_diff,\n",
    "    ) = get_metrics(pycyto_df, cyto_df, features)\n",
    "    # Store results\n",
    "    test_pycytominer_select_mean_diff.append(mean_diff)\n",
    "    test_pycytominer_select_completemean_diff[plate] = complete_mean_diff\n",
    "    test_pycytominer_select_median_diff.append(median_diff)\n",
    "    test_pycytominer_select_completemedian_diff[plate] = complete_median_diff\n",
    "    test_pycytominer_select_sum_diff.append(sum_diff)\n",
    "    test_pycytominer_select_completesum_diff[plate] = complete_sum_diff"
   ]
  },
  {
   "cell_type": "markdown",
   "metadata": {},
   "source": [
    "## Compile Results"
   ]
  },
  {
   "cell_type": "code",
   "execution_count": 9,
   "metadata": {},
   "outputs": [
    {
     "data": {
      "application/javascript": [
       "\n",
       "            setTimeout(function() {\n",
       "                var nbb_cell_id = 9;\n",
       "                var nbb_unformatted_code = \"level_3_mean_diff_df = pd.concat(level_3_mean_diff, axis=\\\"columns\\\", sort=True)\\nlevel_3_mean_diff_df.columns = list(cytominer_plates)\\nlevel_3_completemean_diff_df = pd.DataFrame(\\n    level_3_completemean_diff, index=[\\\"complete_mean_diff\\\"]\\n).transpose()\\n\\nlevel_3_median_diff_df = pd.concat(level_3_median_diff, axis=\\\"columns\\\", sort=True)\\nlevel_3_median_diff_df.columns = list(cytominer_plates)\\nlevel_3_completemedian_diff_df = pd.DataFrame(\\n    level_3_completemedian_diff, index=[\\\"complete_median_diff\\\"]\\n).transpose()\\n\\nlevel_3_sum_diff_df = pd.concat(level_3_sum_diff, axis=\\\"columns\\\", sort=True)\\nlevel_3_sum_diff_df.columns = list(cytominer_plates)\\nlevel_3_completesum_diff_df = pd.DataFrame(\\n    level_3_completesum_diff, index=[\\\"complete_sum_diff\\\"]\\n).transpose()\";\n",
       "                var nbb_formatted_code = \"level_3_mean_diff_df = pd.concat(level_3_mean_diff, axis=\\\"columns\\\", sort=True)\\nlevel_3_mean_diff_df.columns = list(cytominer_plates)\\nlevel_3_completemean_diff_df = pd.DataFrame(\\n    level_3_completemean_diff, index=[\\\"complete_mean_diff\\\"]\\n).transpose()\\n\\nlevel_3_median_diff_df = pd.concat(level_3_median_diff, axis=\\\"columns\\\", sort=True)\\nlevel_3_median_diff_df.columns = list(cytominer_plates)\\nlevel_3_completemedian_diff_df = pd.DataFrame(\\n    level_3_completemedian_diff, index=[\\\"complete_median_diff\\\"]\\n).transpose()\\n\\nlevel_3_sum_diff_df = pd.concat(level_3_sum_diff, axis=\\\"columns\\\", sort=True)\\nlevel_3_sum_diff_df.columns = list(cytominer_plates)\\nlevel_3_completesum_diff_df = pd.DataFrame(\\n    level_3_completesum_diff, index=[\\\"complete_sum_diff\\\"]\\n).transpose()\";\n",
       "                var nbb_cells = Jupyter.notebook.get_cells();\n",
       "                for (var i = 0; i < nbb_cells.length; ++i) {\n",
       "                    if (nbb_cells[i].input_prompt_number == nbb_cell_id) {\n",
       "                        if (nbb_cells[i].get_text() == nbb_unformatted_code) {\n",
       "                             nbb_cells[i].set_text(nbb_formatted_code);\n",
       "                        }\n",
       "                        break;\n",
       "                    }\n",
       "                }\n",
       "            }, 500);\n",
       "            "
      ],
      "text/plain": [
       "<IPython.core.display.Javascript object>"
      ]
     },
     "metadata": {},
     "output_type": "display_data"
    }
   ],
   "source": [
    "level_3_mean_diff_df = pd.concat(level_3_mean_diff, axis=\"columns\", sort=True)\n",
    "level_3_mean_diff_df.columns = list(cytominer_plates)\n",
    "level_3_completemean_diff_df = pd.DataFrame(\n",
    "    level_3_completemean_diff, index=[\"complete_mean_diff\"]\n",
    ").transpose()\n",
    "\n",
    "level_3_median_diff_df = pd.concat(level_3_median_diff, axis=\"columns\", sort=True)\n",
    "level_3_median_diff_df.columns = list(cytominer_plates)\n",
    "level_3_completemedian_diff_df = pd.DataFrame(\n",
    "    level_3_completemedian_diff, index=[\"complete_median_diff\"]\n",
    ").transpose()\n",
    "\n",
    "level_3_sum_diff_df = pd.concat(level_3_sum_diff, axis=\"columns\", sort=True)\n",
    "level_3_sum_diff_df.columns = list(cytominer_plates)\n",
    "level_3_completesum_diff_df = pd.DataFrame(\n",
    "    level_3_completesum_diff, index=[\"complete_sum_diff\"]\n",
    ").transpose()"
   ]
  },
  {
   "cell_type": "code",
   "execution_count": 10,
   "metadata": {},
   "outputs": [
    {
     "data": {
      "application/javascript": [
       "\n",
       "            setTimeout(function() {\n",
       "                var nbb_cell_id = 10;\n",
       "                var nbb_unformatted_code = \"level_4a_mean_diff_df = pd.concat(level_4a_mean_diff, axis=\\\"columns\\\")\\nlevel_4a_mean_diff_df.columns = list(cytominer_plates)\\nlevel_4a_completemean_diff_df = pd.DataFrame(\\n    level_4a_completemean_diff, index=[\\\"complete_mean_diff\\\"]\\n).transpose()\\n\\nlevel_4a_median_diff_df = pd.concat(level_4a_median_diff, axis=\\\"columns\\\", sort=True)\\nlevel_4a_median_diff_df.columns = list(cytominer_plates)\\nlevel_4a_completemedian_diff_df = pd.DataFrame(\\n    level_4a_completemedian_diff, index=[\\\"complete_median_diff\\\"]\\n).transpose()\\n\\nlevel_4a_sum_diff_df = pd.concat(level_4a_sum_diff, axis=\\\"columns\\\", sort=True)\\nlevel_4a_sum_diff_df.columns = list(cytominer_plates)\\nlevel_4a_completesum_diff_df = pd.DataFrame(\\n    level_4a_completesum_diff, index=[\\\"complete_sum_diff\\\"]\\n).transpose()\";\n",
       "                var nbb_formatted_code = \"level_4a_mean_diff_df = pd.concat(level_4a_mean_diff, axis=\\\"columns\\\")\\nlevel_4a_mean_diff_df.columns = list(cytominer_plates)\\nlevel_4a_completemean_diff_df = pd.DataFrame(\\n    level_4a_completemean_diff, index=[\\\"complete_mean_diff\\\"]\\n).transpose()\\n\\nlevel_4a_median_diff_df = pd.concat(level_4a_median_diff, axis=\\\"columns\\\", sort=True)\\nlevel_4a_median_diff_df.columns = list(cytominer_plates)\\nlevel_4a_completemedian_diff_df = pd.DataFrame(\\n    level_4a_completemedian_diff, index=[\\\"complete_median_diff\\\"]\\n).transpose()\\n\\nlevel_4a_sum_diff_df = pd.concat(level_4a_sum_diff, axis=\\\"columns\\\", sort=True)\\nlevel_4a_sum_diff_df.columns = list(cytominer_plates)\\nlevel_4a_completesum_diff_df = pd.DataFrame(\\n    level_4a_completesum_diff, index=[\\\"complete_sum_diff\\\"]\\n).transpose()\";\n",
       "                var nbb_cells = Jupyter.notebook.get_cells();\n",
       "                for (var i = 0; i < nbb_cells.length; ++i) {\n",
       "                    if (nbb_cells[i].input_prompt_number == nbb_cell_id) {\n",
       "                        if (nbb_cells[i].get_text() == nbb_unformatted_code) {\n",
       "                             nbb_cells[i].set_text(nbb_formatted_code);\n",
       "                        }\n",
       "                        break;\n",
       "                    }\n",
       "                }\n",
       "            }, 500);\n",
       "            "
      ],
      "text/plain": [
       "<IPython.core.display.Javascript object>"
      ]
     },
     "metadata": {},
     "output_type": "display_data"
    }
   ],
   "source": [
    "level_4a_mean_diff_df = pd.concat(level_4a_mean_diff, axis=\"columns\")\n",
    "level_4a_mean_diff_df.columns = list(cytominer_plates)\n",
    "level_4a_completemean_diff_df = pd.DataFrame(\n",
    "    level_4a_completemean_diff, index=[\"complete_mean_diff\"]\n",
    ").transpose()\n",
    "\n",
    "level_4a_median_diff_df = pd.concat(level_4a_median_diff, axis=\"columns\", sort=True)\n",
    "level_4a_median_diff_df.columns = list(cytominer_plates)\n",
    "level_4a_completemedian_diff_df = pd.DataFrame(\n",
    "    level_4a_completemedian_diff, index=[\"complete_median_diff\"]\n",
    ").transpose()\n",
    "\n",
    "level_4a_sum_diff_df = pd.concat(level_4a_sum_diff, axis=\"columns\", sort=True)\n",
    "level_4a_sum_diff_df.columns = list(cytominer_plates)\n",
    "level_4a_completesum_diff_df = pd.DataFrame(\n",
    "    level_4a_completesum_diff, index=[\"complete_sum_diff\"]\n",
    ").transpose()"
   ]
  },
  {
   "cell_type": "code",
   "execution_count": 11,
   "metadata": {},
   "outputs": [
    {
     "data": {
      "application/javascript": [
       "\n",
       "            setTimeout(function() {\n",
       "                var nbb_cell_id = 11;\n",
       "                var nbb_unformatted_code = \"level_4b_mean_diff_df = pd.concat(level_4b_mean_diff, axis=\\\"columns\\\")\\nlevel_4b_mean_diff_df.columns = list(cytominer_plates)\\nlevel_4b_completemean_diff_df = pd.DataFrame(\\n    level_4b_completemean_diff, index=[\\\"complete_mean_diff\\\"]\\n).transpose()\\n\\nlevel_4b_median_diff_df = pd.concat(level_4b_median_diff, axis=\\\"columns\\\", sort=True)\\nlevel_4b_median_diff_df.columns = list(cytominer_plates)\\nlevel_4b_completemedian_diff_df = pd.DataFrame(\\n    level_4b_completemedian_diff, index=[\\\"complete_median_diff\\\"]\\n).transpose()\\n\\nlevel_4b_sum_diff_df = pd.concat(level_4b_sum_diff, axis=\\\"columns\\\", sort=True)\\nlevel_4b_sum_diff_df.columns = list(cytominer_plates)\\nlevel_4b_completesum_diff_df = pd.DataFrame(\\n    level_4b_completesum_diff, index=[\\\"complete_sum_diff\\\"]\\n).transpose()\\n\\nlevel_4b_feature_select_df = pd.concat(level_4b_feature_select, axis=\\\"columns\\\")\";\n",
       "                var nbb_formatted_code = \"level_4b_mean_diff_df = pd.concat(level_4b_mean_diff, axis=\\\"columns\\\")\\nlevel_4b_mean_diff_df.columns = list(cytominer_plates)\\nlevel_4b_completemean_diff_df = pd.DataFrame(\\n    level_4b_completemean_diff, index=[\\\"complete_mean_diff\\\"]\\n).transpose()\\n\\nlevel_4b_median_diff_df = pd.concat(level_4b_median_diff, axis=\\\"columns\\\", sort=True)\\nlevel_4b_median_diff_df.columns = list(cytominer_plates)\\nlevel_4b_completemedian_diff_df = pd.DataFrame(\\n    level_4b_completemedian_diff, index=[\\\"complete_median_diff\\\"]\\n).transpose()\\n\\nlevel_4b_sum_diff_df = pd.concat(level_4b_sum_diff, axis=\\\"columns\\\", sort=True)\\nlevel_4b_sum_diff_df.columns = list(cytominer_plates)\\nlevel_4b_completesum_diff_df = pd.DataFrame(\\n    level_4b_completesum_diff, index=[\\\"complete_sum_diff\\\"]\\n).transpose()\\n\\nlevel_4b_feature_select_df = pd.concat(level_4b_feature_select, axis=\\\"columns\\\")\";\n",
       "                var nbb_cells = Jupyter.notebook.get_cells();\n",
       "                for (var i = 0; i < nbb_cells.length; ++i) {\n",
       "                    if (nbb_cells[i].input_prompt_number == nbb_cell_id) {\n",
       "                        if (nbb_cells[i].get_text() == nbb_unformatted_code) {\n",
       "                             nbb_cells[i].set_text(nbb_formatted_code);\n",
       "                        }\n",
       "                        break;\n",
       "                    }\n",
       "                }\n",
       "            }, 500);\n",
       "            "
      ],
      "text/plain": [
       "<IPython.core.display.Javascript object>"
      ]
     },
     "metadata": {},
     "output_type": "display_data"
    }
   ],
   "source": [
    "level_4b_mean_diff_df = pd.concat(level_4b_mean_diff, axis=\"columns\")\n",
    "level_4b_mean_diff_df.columns = list(cytominer_plates)\n",
    "level_4b_completemean_diff_df = pd.DataFrame(\n",
    "    level_4b_completemean_diff, index=[\"complete_mean_diff\"]\n",
    ").transpose()\n",
    "\n",
    "level_4b_median_diff_df = pd.concat(level_4b_median_diff, axis=\"columns\", sort=True)\n",
    "level_4b_median_diff_df.columns = list(cytominer_plates)\n",
    "level_4b_completemedian_diff_df = pd.DataFrame(\n",
    "    level_4b_completemedian_diff, index=[\"complete_median_diff\"]\n",
    ").transpose()\n",
    "\n",
    "level_4b_sum_diff_df = pd.concat(level_4b_sum_diff, axis=\"columns\", sort=True)\n",
    "level_4b_sum_diff_df.columns = list(cytominer_plates)\n",
    "level_4b_completesum_diff_df = pd.DataFrame(\n",
    "    level_4b_completesum_diff, index=[\"complete_sum_diff\"]\n",
    ").transpose()\n",
    "\n",
    "level_4b_feature_select_df = pd.concat(level_4b_feature_select, axis=\"columns\")"
   ]
  },
  {
   "cell_type": "code",
   "execution_count": 12,
   "metadata": {},
   "outputs": [
    {
     "data": {
      "application/javascript": [
       "\n",
       "            setTimeout(function() {\n",
       "                var nbb_cell_id = 12;\n",
       "                var nbb_unformatted_code = \"test_pycytominer_select_mean_diff_df = pd.concat(\\n    test_pycytominer_select_mean_diff, axis=\\\"columns\\\", sort=True\\n)\\ntest_pycytominer_select_mean_diff_df.columns = list(cytominer_plates)\\ntest_pycytominer_select_completemean_diff_df = pd.DataFrame(\\n    test_pycytominer_select_completemean_diff, index=[\\\"complete_mean_diff\\\"]\\n).transpose()\\n\\ntest_pycytominer_select_median_diff_df = pd.concat(\\n    test_pycytominer_select_median_diff, axis=\\\"columns\\\", sort=True\\n)\\ntest_pycytominer_select_median_diff_df.columns = list(cytominer_plates)\\ntest_pycytominer_select_completemedian_diff_df = pd.DataFrame(\\n    test_pycytominer_select_completemedian_diff, index=[\\\"complete_median_diff\\\"]\\n).transpose()\\n\\ntest_pycytominer_select_sum_diff_df = pd.concat(\\n    test_pycytominer_select_sum_diff, axis=\\\"columns\\\", sort=True\\n)\\ntest_pycytominer_select_sum_diff_df.columns = list(cytominer_plates)\\ntest_pycytominer_select_completesum_diff_df = pd.DataFrame(\\n    test_pycytominer_select_completesum_diff, index=[\\\"complete_sum_diff\\\"]\\n).transpose()\";\n",
       "                var nbb_formatted_code = \"test_pycytominer_select_mean_diff_df = pd.concat(\\n    test_pycytominer_select_mean_diff, axis=\\\"columns\\\", sort=True\\n)\\ntest_pycytominer_select_mean_diff_df.columns = list(cytominer_plates)\\ntest_pycytominer_select_completemean_diff_df = pd.DataFrame(\\n    test_pycytominer_select_completemean_diff, index=[\\\"complete_mean_diff\\\"]\\n).transpose()\\n\\ntest_pycytominer_select_median_diff_df = pd.concat(\\n    test_pycytominer_select_median_diff, axis=\\\"columns\\\", sort=True\\n)\\ntest_pycytominer_select_median_diff_df.columns = list(cytominer_plates)\\ntest_pycytominer_select_completemedian_diff_df = pd.DataFrame(\\n    test_pycytominer_select_completemedian_diff, index=[\\\"complete_median_diff\\\"]\\n).transpose()\\n\\ntest_pycytominer_select_sum_diff_df = pd.concat(\\n    test_pycytominer_select_sum_diff, axis=\\\"columns\\\", sort=True\\n)\\ntest_pycytominer_select_sum_diff_df.columns = list(cytominer_plates)\\ntest_pycytominer_select_completesum_diff_df = pd.DataFrame(\\n    test_pycytominer_select_completesum_diff, index=[\\\"complete_sum_diff\\\"]\\n).transpose()\";\n",
       "                var nbb_cells = Jupyter.notebook.get_cells();\n",
       "                for (var i = 0; i < nbb_cells.length; ++i) {\n",
       "                    if (nbb_cells[i].input_prompt_number == nbb_cell_id) {\n",
       "                        if (nbb_cells[i].get_text() == nbb_unformatted_code) {\n",
       "                             nbb_cells[i].set_text(nbb_formatted_code);\n",
       "                        }\n",
       "                        break;\n",
       "                    }\n",
       "                }\n",
       "            }, 500);\n",
       "            "
      ],
      "text/plain": [
       "<IPython.core.display.Javascript object>"
      ]
     },
     "metadata": {},
     "output_type": "display_data"
    }
   ],
   "source": [
    "test_pycytominer_select_mean_diff_df = pd.concat(\n",
    "    test_pycytominer_select_mean_diff, axis=\"columns\", sort=True\n",
    ")\n",
    "test_pycytominer_select_mean_diff_df.columns = list(cytominer_plates)\n",
    "test_pycytominer_select_completemean_diff_df = pd.DataFrame(\n",
    "    test_pycytominer_select_completemean_diff, index=[\"complete_mean_diff\"]\n",
    ").transpose()\n",
    "\n",
    "test_pycytominer_select_median_diff_df = pd.concat(\n",
    "    test_pycytominer_select_median_diff, axis=\"columns\", sort=True\n",
    ")\n",
    "test_pycytominer_select_median_diff_df.columns = list(cytominer_plates)\n",
    "test_pycytominer_select_completemedian_diff_df = pd.DataFrame(\n",
    "    test_pycytominer_select_completemedian_diff, index=[\"complete_median_diff\"]\n",
    ").transpose()\n",
    "\n",
    "test_pycytominer_select_sum_diff_df = pd.concat(\n",
    "    test_pycytominer_select_sum_diff, axis=\"columns\", sort=True\n",
    ")\n",
    "test_pycytominer_select_sum_diff_df.columns = list(cytominer_plates)\n",
    "test_pycytominer_select_completesum_diff_df = pd.DataFrame(\n",
    "    test_pycytominer_select_completesum_diff, index=[\"complete_sum_diff\"]\n",
    ").transpose()"
   ]
  },
  {
   "cell_type": "markdown",
   "metadata": {},
   "source": [
    "## Output Results"
   ]
  },
  {
   "cell_type": "code",
   "execution_count": 13,
   "metadata": {},
   "outputs": [
    {
     "data": {
      "application/javascript": [
       "\n",
       "            setTimeout(function() {\n",
       "                var nbb_cell_id = 13;\n",
       "                var nbb_unformatted_code = \"level = \\\"level_3\\\"\\nlevel_3_files = build_filenames(output_dir, level)\\n\\n# Output mean\\nlevel_3_mean_diff_df.to_csv(\\n    level_3_files[\\\"mean\\\"], sep=\\\"\\\\t\\\", index=True, compression=\\\"gzip\\\"\\n)\\n\\n# Output median\\nlevel_3_median_diff_df.to_csv(\\n    level_3_files[\\\"median\\\"], sep=\\\"\\\\t\\\", index=True, compression=\\\"gzip\\\"\\n)\\n\\n# Output sum\\nlevel_3_sum_diff_df.to_csv(\\n    level_3_files[\\\"sum\\\"], sep=\\\"\\\\t\\\", index=True, compression=\\\"gzip\\\"\\n)\";\n",
       "                var nbb_formatted_code = \"level = \\\"level_3\\\"\\nlevel_3_files = build_filenames(output_dir, level)\\n\\n# Output mean\\nlevel_3_mean_diff_df.to_csv(\\n    level_3_files[\\\"mean\\\"], sep=\\\"\\\\t\\\", index=True, compression=\\\"gzip\\\"\\n)\\n\\n# Output median\\nlevel_3_median_diff_df.to_csv(\\n    level_3_files[\\\"median\\\"], sep=\\\"\\\\t\\\", index=True, compression=\\\"gzip\\\"\\n)\\n\\n# Output sum\\nlevel_3_sum_diff_df.to_csv(\\n    level_3_files[\\\"sum\\\"], sep=\\\"\\\\t\\\", index=True, compression=\\\"gzip\\\"\\n)\";\n",
       "                var nbb_cells = Jupyter.notebook.get_cells();\n",
       "                for (var i = 0; i < nbb_cells.length; ++i) {\n",
       "                    if (nbb_cells[i].input_prompt_number == nbb_cell_id) {\n",
       "                        if (nbb_cells[i].get_text() == nbb_unformatted_code) {\n",
       "                             nbb_cells[i].set_text(nbb_formatted_code);\n",
       "                        }\n",
       "                        break;\n",
       "                    }\n",
       "                }\n",
       "            }, 500);\n",
       "            "
      ],
      "text/plain": [
       "<IPython.core.display.Javascript object>"
      ]
     },
     "metadata": {},
     "output_type": "display_data"
    }
   ],
   "source": [
    "level = \"level_3\"\n",
    "level_3_files = build_filenames(output_dir, level)\n",
    "\n",
    "# Output mean\n",
    "level_3_mean_diff_df.to_csv(\n",
    "    level_3_files[\"mean\"], sep=\"\\t\", index=True, compression=\"gzip\"\n",
    ")\n",
    "\n",
    "# Output median\n",
    "level_3_median_diff_df.to_csv(\n",
    "    level_3_files[\"median\"], sep=\"\\t\", index=True, compression=\"gzip\"\n",
    ")\n",
    "\n",
    "# Output sum\n",
    "level_3_sum_diff_df.to_csv(\n",
    "    level_3_files[\"sum\"], sep=\"\\t\", index=True, compression=\"gzip\"\n",
    ")"
   ]
  },
  {
   "cell_type": "code",
   "execution_count": 14,
   "metadata": {},
   "outputs": [
    {
     "data": {
      "application/javascript": [
       "\n",
       "            setTimeout(function() {\n",
       "                var nbb_cell_id = 14;\n",
       "                var nbb_unformatted_code = \"level = \\\"level_4a\\\"\\nlevel_4a_files = build_filenames(output_dir, level)\\n\\n# Output mean\\nlevel_4a_mean_diff_df.to_csv(\\n    level_4a_files[\\\"mean\\\"], sep=\\\"\\\\t\\\", index=True, compression=\\\"gzip\\\"\\n)\\n\\n# Output median\\nlevel_4a_median_diff_df.to_csv(\\n    level_4a_files[\\\"median\\\"], sep=\\\"\\\\t\\\", index=True, compression=\\\"gzip\\\"\\n)\\n\\n# Output sum\\nlevel_4a_sum_diff_df.to_csv(\\n    level_4a_files[\\\"sum\\\"], sep=\\\"\\\\t\\\", index=True, compression=\\\"gzip\\\"\\n)\";\n",
       "                var nbb_formatted_code = \"level = \\\"level_4a\\\"\\nlevel_4a_files = build_filenames(output_dir, level)\\n\\n# Output mean\\nlevel_4a_mean_diff_df.to_csv(\\n    level_4a_files[\\\"mean\\\"], sep=\\\"\\\\t\\\", index=True, compression=\\\"gzip\\\"\\n)\\n\\n# Output median\\nlevel_4a_median_diff_df.to_csv(\\n    level_4a_files[\\\"median\\\"], sep=\\\"\\\\t\\\", index=True, compression=\\\"gzip\\\"\\n)\\n\\n# Output sum\\nlevel_4a_sum_diff_df.to_csv(\\n    level_4a_files[\\\"sum\\\"], sep=\\\"\\\\t\\\", index=True, compression=\\\"gzip\\\"\\n)\";\n",
       "                var nbb_cells = Jupyter.notebook.get_cells();\n",
       "                for (var i = 0; i < nbb_cells.length; ++i) {\n",
       "                    if (nbb_cells[i].input_prompt_number == nbb_cell_id) {\n",
       "                        if (nbb_cells[i].get_text() == nbb_unformatted_code) {\n",
       "                             nbb_cells[i].set_text(nbb_formatted_code);\n",
       "                        }\n",
       "                        break;\n",
       "                    }\n",
       "                }\n",
       "            }, 500);\n",
       "            "
      ],
      "text/plain": [
       "<IPython.core.display.Javascript object>"
      ]
     },
     "metadata": {},
     "output_type": "display_data"
    }
   ],
   "source": [
    "level = \"level_4a\"\n",
    "level_4a_files = build_filenames(output_dir, level)\n",
    "\n",
    "# Output mean\n",
    "level_4a_mean_diff_df.to_csv(\n",
    "    level_4a_files[\"mean\"], sep=\"\\t\", index=True, compression=\"gzip\"\n",
    ")\n",
    "\n",
    "# Output median\n",
    "level_4a_median_diff_df.to_csv(\n",
    "    level_4a_files[\"median\"], sep=\"\\t\", index=True, compression=\"gzip\"\n",
    ")\n",
    "\n",
    "# Output sum\n",
    "level_4a_sum_diff_df.to_csv(\n",
    "    level_4a_files[\"sum\"], sep=\"\\t\", index=True, compression=\"gzip\"\n",
    ")"
   ]
  },
  {
   "cell_type": "code",
   "execution_count": 15,
   "metadata": {},
   "outputs": [
    {
     "data": {
      "application/javascript": [
       "\n",
       "            setTimeout(function() {\n",
       "                var nbb_cell_id = 15;\n",
       "                var nbb_unformatted_code = \"level = \\\"level_4b\\\"\\nlevel_4b_files = build_filenames(output_dir, level)\\n\\n# Output mean\\nlevel_4b_mean_diff_df.to_csv(\\n    level_4b_files[\\\"mean\\\"], sep=\\\"\\\\t\\\", index=True, compression=\\\"gzip\\\"\\n)\\n\\n# Output median\\nlevel_4b_median_diff_df.to_csv(\\n    level_4b_files[\\\"median\\\"], sep=\\\"\\\\t\\\", index=True, compression=\\\"gzip\\\"\\n)\\n\\n# Output sum\\nlevel_4b_sum_diff_df.to_csv(\\n    level_4b_files[\\\"sum\\\"], sep=\\\"\\\\t\\\", index=True, compression=\\\"gzip\\\"\\n)\\n\\n# Output feature select summary file\\noutput_file = f\\\"{output_dir}/comparison_result_4b_feature_select.tsv.gz\\\"\\nlevel_4b_feature_select_df.to_csv(output_file, sep=\\\"\\\\t\\\", index=True, compression=\\\"gzip\\\")\";\n",
       "                var nbb_formatted_code = \"level = \\\"level_4b\\\"\\nlevel_4b_files = build_filenames(output_dir, level)\\n\\n# Output mean\\nlevel_4b_mean_diff_df.to_csv(\\n    level_4b_files[\\\"mean\\\"], sep=\\\"\\\\t\\\", index=True, compression=\\\"gzip\\\"\\n)\\n\\n# Output median\\nlevel_4b_median_diff_df.to_csv(\\n    level_4b_files[\\\"median\\\"], sep=\\\"\\\\t\\\", index=True, compression=\\\"gzip\\\"\\n)\\n\\n# Output sum\\nlevel_4b_sum_diff_df.to_csv(\\n    level_4b_files[\\\"sum\\\"], sep=\\\"\\\\t\\\", index=True, compression=\\\"gzip\\\"\\n)\\n\\n# Output feature select summary file\\noutput_file = f\\\"{output_dir}/comparison_result_4b_feature_select.tsv.gz\\\"\\nlevel_4b_feature_select_df.to_csv(output_file, sep=\\\"\\\\t\\\", index=True, compression=\\\"gzip\\\")\";\n",
       "                var nbb_cells = Jupyter.notebook.get_cells();\n",
       "                for (var i = 0; i < nbb_cells.length; ++i) {\n",
       "                    if (nbb_cells[i].input_prompt_number == nbb_cell_id) {\n",
       "                        if (nbb_cells[i].get_text() == nbb_unformatted_code) {\n",
       "                             nbb_cells[i].set_text(nbb_formatted_code);\n",
       "                        }\n",
       "                        break;\n",
       "                    }\n",
       "                }\n",
       "            }, 500);\n",
       "            "
      ],
      "text/plain": [
       "<IPython.core.display.Javascript object>"
      ]
     },
     "metadata": {},
     "output_type": "display_data"
    }
   ],
   "source": [
    "level = \"level_4b\"\n",
    "level_4b_files = build_filenames(output_dir, level)\n",
    "\n",
    "# Output mean\n",
    "level_4b_mean_diff_df.to_csv(\n",
    "    level_4b_files[\"mean\"], sep=\"\\t\", index=True, compression=\"gzip\"\n",
    ")\n",
    "\n",
    "# Output median\n",
    "level_4b_median_diff_df.to_csv(\n",
    "    level_4b_files[\"median\"], sep=\"\\t\", index=True, compression=\"gzip\"\n",
    ")\n",
    "\n",
    "# Output sum\n",
    "level_4b_sum_diff_df.to_csv(\n",
    "    level_4b_files[\"sum\"], sep=\"\\t\", index=True, compression=\"gzip\"\n",
    ")\n",
    "\n",
    "# Output feature select summary file\n",
    "output_file = f\"{output_dir}/comparison_result_4b_feature_select.tsv.gz\"\n",
    "level_4b_feature_select_df.to_csv(output_file, sep=\"\\t\", index=True, compression=\"gzip\")"
   ]
  },
  {
   "cell_type": "code",
   "execution_count": 16,
   "metadata": {},
   "outputs": [
    {
     "data": {
      "application/javascript": [
       "\n",
       "            setTimeout(function() {\n",
       "                var nbb_cell_id = 16;\n",
       "                var nbb_unformatted_code = \"level = \\\"pycytominer_select\\\"\\npycytominer_select_files = build_filenames(output_dir, level)\\n\\n# Output mean\\ntest_pycytominer_select_mean_diff_df.to_csv(\\n    pycytominer_select_files[\\\"mean\\\"], sep=\\\"\\\\t\\\", index=True, compression=\\\"gzip\\\"\\n)\\n\\n# Output median\\ntest_pycytominer_select_median_diff_df.to_csv(\\n    pycytominer_select_files[\\\"median\\\"], sep=\\\"\\\\t\\\", index=True, compression=\\\"gzip\\\"\\n)\\n\\n# Output sum\\ntest_pycytominer_select_sum_diff_df.to_csv(\\n    pycytominer_select_files[\\\"sum\\\"], sep=\\\"\\\\t\\\", index=True, compression=\\\"gzip\\\"\\n)\";\n",
       "                var nbb_formatted_code = \"level = \\\"pycytominer_select\\\"\\npycytominer_select_files = build_filenames(output_dir, level)\\n\\n# Output mean\\ntest_pycytominer_select_mean_diff_df.to_csv(\\n    pycytominer_select_files[\\\"mean\\\"], sep=\\\"\\\\t\\\", index=True, compression=\\\"gzip\\\"\\n)\\n\\n# Output median\\ntest_pycytominer_select_median_diff_df.to_csv(\\n    pycytominer_select_files[\\\"median\\\"], sep=\\\"\\\\t\\\", index=True, compression=\\\"gzip\\\"\\n)\\n\\n# Output sum\\ntest_pycytominer_select_sum_diff_df.to_csv(\\n    pycytominer_select_files[\\\"sum\\\"], sep=\\\"\\\\t\\\", index=True, compression=\\\"gzip\\\"\\n)\";\n",
       "                var nbb_cells = Jupyter.notebook.get_cells();\n",
       "                for (var i = 0; i < nbb_cells.length; ++i) {\n",
       "                    if (nbb_cells[i].input_prompt_number == nbb_cell_id) {\n",
       "                        if (nbb_cells[i].get_text() == nbb_unformatted_code) {\n",
       "                             nbb_cells[i].set_text(nbb_formatted_code);\n",
       "                        }\n",
       "                        break;\n",
       "                    }\n",
       "                }\n",
       "            }, 500);\n",
       "            "
      ],
      "text/plain": [
       "<IPython.core.display.Javascript object>"
      ]
     },
     "metadata": {},
     "output_type": "display_data"
    }
   ],
   "source": [
    "level = \"pycytominer_select\"\n",
    "pycytominer_select_files = build_filenames(output_dir, level)\n",
    "\n",
    "# Output mean\n",
    "test_pycytominer_select_mean_diff_df.to_csv(\n",
    "    pycytominer_select_files[\"mean\"], sep=\"\\t\", index=True, compression=\"gzip\"\n",
    ")\n",
    "\n",
    "# Output median\n",
    "test_pycytominer_select_median_diff_df.to_csv(\n",
    "    pycytominer_select_files[\"median\"], sep=\"\\t\", index=True, compression=\"gzip\"\n",
    ")\n",
    "\n",
    "# Output sum\n",
    "test_pycytominer_select_sum_diff_df.to_csv(\n",
    "    pycytominer_select_files[\"sum\"], sep=\"\\t\", index=True, compression=\"gzip\"\n",
    ")"
   ]
  },
  {
   "cell_type": "code",
   "execution_count": 17,
   "metadata": {},
   "outputs": [
    {
     "name": "stdout",
     "output_type": "stream",
     "text": [
      "(136, 9)\n"
     ]
    },
    {
     "data": {
      "text/html": [
       "<div>\n",
       "<style scoped>\n",
       "    .dataframe tbody tr th:only-of-type {\n",
       "        vertical-align: middle;\n",
       "    }\n",
       "\n",
       "    .dataframe tbody tr th {\n",
       "        vertical-align: top;\n",
       "    }\n",
       "\n",
       "    .dataframe thead th {\n",
       "        text-align: right;\n",
       "    }\n",
       "</style>\n",
       "<table border=\"1\" class=\"dataframe\">\n",
       "  <thead>\n",
       "    <tr style=\"text-align: right;\">\n",
       "      <th></th>\n",
       "      <th>level_3_complete_mean_diff</th>\n",
       "      <th>level_3_complete_median_diff</th>\n",
       "      <th>level_3_complete_sum_diff</th>\n",
       "      <th>level_4a_complete_mean_diff</th>\n",
       "      <th>level_4a_complete_median_diff</th>\n",
       "      <th>level_4a_complete_sum_diff</th>\n",
       "      <th>level_4b_complete_mean_diff</th>\n",
       "      <th>level_4b_complete_median_diff</th>\n",
       "      <th>level_4b_complete_sum_diff</th>\n",
       "    </tr>\n",
       "  </thead>\n",
       "  <tbody>\n",
       "    <tr>\n",
       "      <th>SQ00015196</th>\n",
       "      <td>0.001272</td>\n",
       "      <td>0.000513</td>\n",
       "      <td>870.57825</td>\n",
       "      <td>0.004736</td>\n",
       "      <td>0.000990</td>\n",
       "      <td>3036.90706</td>\n",
       "      <td>0.002064</td>\n",
       "      <td>0.001253</td>\n",
       "      <td>270.23095</td>\n",
       "    </tr>\n",
       "    <tr>\n",
       "      <th>SQ00014820</th>\n",
       "      <td>0.001546</td>\n",
       "      <td>0.000514</td>\n",
       "      <td>1058.23707</td>\n",
       "      <td>0.021597</td>\n",
       "      <td>0.001396</td>\n",
       "      <td>13882.97519</td>\n",
       "      <td>0.003080</td>\n",
       "      <td>0.001687</td>\n",
       "      <td>404.54706</td>\n",
       "    </tr>\n",
       "    <tr>\n",
       "      <th>SQ00015058</th>\n",
       "      <td>0.001069</td>\n",
       "      <td>0.000491</td>\n",
       "      <td>732.00186</td>\n",
       "      <td>0.006276</td>\n",
       "      <td>0.001059</td>\n",
       "      <td>4034.42844</td>\n",
       "      <td>0.001824</td>\n",
       "      <td>0.001007</td>\n",
       "      <td>234.65259</td>\n",
       "    </tr>\n",
       "    <tr>\n",
       "      <th>SQ00015046</th>\n",
       "      <td>0.001878</td>\n",
       "      <td>0.000500</td>\n",
       "      <td>1285.96016</td>\n",
       "      <td>0.015458</td>\n",
       "      <td>0.001509</td>\n",
       "      <td>9912.96052</td>\n",
       "      <td>0.002283</td>\n",
       "      <td>0.001328</td>\n",
       "      <td>311.25483</td>\n",
       "    </tr>\n",
       "    <tr>\n",
       "      <th>SQ00015210</th>\n",
       "      <td>0.002196</td>\n",
       "      <td>0.000530</td>\n",
       "      <td>1503.62634</td>\n",
       "      <td>0.003769</td>\n",
       "      <td>0.001419</td>\n",
       "      <td>2413.93925</td>\n",
       "      <td>0.003181</td>\n",
       "      <td>0.001719</td>\n",
       "      <td>414.09969</td>\n",
       "    </tr>\n",
       "  </tbody>\n",
       "</table>\n",
       "</div>"
      ],
      "text/plain": [
       "            level_3_complete_mean_diff  level_3_complete_median_diff  \\\n",
       "SQ00015196                    0.001272                      0.000513   \n",
       "SQ00014820                    0.001546                      0.000514   \n",
       "SQ00015058                    0.001069                      0.000491   \n",
       "SQ00015046                    0.001878                      0.000500   \n",
       "SQ00015210                    0.002196                      0.000530   \n",
       "\n",
       "            level_3_complete_sum_diff  level_4a_complete_mean_diff  \\\n",
       "SQ00015196                  870.57825                     0.004736   \n",
       "SQ00014820                 1058.23707                     0.021597   \n",
       "SQ00015058                  732.00186                     0.006276   \n",
       "SQ00015046                 1285.96016                     0.015458   \n",
       "SQ00015210                 1503.62634                     0.003769   \n",
       "\n",
       "            level_4a_complete_median_diff  level_4a_complete_sum_diff  \\\n",
       "SQ00015196                       0.000990                  3036.90706   \n",
       "SQ00014820                       0.001396                 13882.97519   \n",
       "SQ00015058                       0.001059                  4034.42844   \n",
       "SQ00015046                       0.001509                  9912.96052   \n",
       "SQ00015210                       0.001419                  2413.93925   \n",
       "\n",
       "            level_4b_complete_mean_diff  level_4b_complete_median_diff  \\\n",
       "SQ00015196                     0.002064                       0.001253   \n",
       "SQ00014820                     0.003080                       0.001687   \n",
       "SQ00015058                     0.001824                       0.001007   \n",
       "SQ00015046                     0.002283                       0.001328   \n",
       "SQ00015210                     0.003181                       0.001719   \n",
       "\n",
       "            level_4b_complete_sum_diff  \n",
       "SQ00015196                   270.23095  \n",
       "SQ00014820                   404.54706  \n",
       "SQ00015058                   234.65259  \n",
       "SQ00015046                   311.25483  \n",
       "SQ00015210                   414.09969  "
      ]
     },
     "execution_count": 17,
     "metadata": {},
     "output_type": "execute_result"
    },
    {
     "data": {
      "application/javascript": [
       "\n",
       "            setTimeout(function() {\n",
       "                var nbb_cell_id = 17;\n",
       "                var nbb_unformatted_code = \"# Concatenate level 3 results\\nlevel_3_complete_df = pd.concat(\\n    [\\n        level_3_completemean_diff_df,\\n        level_3_completemedian_diff_df,\\n        level_3_completesum_diff_df,\\n    ],\\n    axis=\\\"columns\\\",\\n)\\n\\nlevel_3_complete_df.columns = [f\\\"level_3_{x}\\\" for x in level_3_complete_df.columns]\\n\\n# Concatenate level 4a results\\nlevel_4a_complete_df = pd.concat(\\n    [\\n        level_4a_completemean_diff_df,\\n        level_4a_completemedian_diff_df,\\n        level_4a_completesum_diff_df,\\n    ],\\n    axis=\\\"columns\\\",\\n)\\n\\nlevel_4a_complete_df.columns = [f\\\"level_4a_{x}\\\" for x in level_4a_complete_df.columns]\\n\\n# Concatenate level 4b results\\nlevel_4b_complete_df = pd.concat(\\n    [\\n        level_4b_completemean_diff_df,\\n        level_4b_completemedian_diff_df,\\n        level_4b_completesum_diff_df,\\n    ],\\n    axis=\\\"columns\\\",\\n)\\n\\nlevel_4b_complete_df.columns = [f\\\"level_4b_{x}\\\" for x in level_4b_complete_df.columns]\\n\\n# Combine all results\\ncomplete_df = pd.concat(\\n    [level_3_complete_df, level_4a_complete_df, level_4b_complete_df,], axis=\\\"columns\\\",\\n)\\n\\n# Output file\\noutput_file = f\\\"{output_dir}/comparison_result_metric_summary.tsv\\\"\\ncomplete_df.to_csv(output_file, sep=\\\"\\\\t\\\", index=True)\\n\\nprint(complete_df.shape)\\ncomplete_df.head()\";\n",
       "                var nbb_formatted_code = \"# Concatenate level 3 results\\nlevel_3_complete_df = pd.concat(\\n    [\\n        level_3_completemean_diff_df,\\n        level_3_completemedian_diff_df,\\n        level_3_completesum_diff_df,\\n    ],\\n    axis=\\\"columns\\\",\\n)\\n\\nlevel_3_complete_df.columns = [f\\\"level_3_{x}\\\" for x in level_3_complete_df.columns]\\n\\n# Concatenate level 4a results\\nlevel_4a_complete_df = pd.concat(\\n    [\\n        level_4a_completemean_diff_df,\\n        level_4a_completemedian_diff_df,\\n        level_4a_completesum_diff_df,\\n    ],\\n    axis=\\\"columns\\\",\\n)\\n\\nlevel_4a_complete_df.columns = [f\\\"level_4a_{x}\\\" for x in level_4a_complete_df.columns]\\n\\n# Concatenate level 4b results\\nlevel_4b_complete_df = pd.concat(\\n    [\\n        level_4b_completemean_diff_df,\\n        level_4b_completemedian_diff_df,\\n        level_4b_completesum_diff_df,\\n    ],\\n    axis=\\\"columns\\\",\\n)\\n\\nlevel_4b_complete_df.columns = [f\\\"level_4b_{x}\\\" for x in level_4b_complete_df.columns]\\n\\n# Combine all results\\ncomplete_df = pd.concat(\\n    [level_3_complete_df, level_4a_complete_df, level_4b_complete_df,], axis=\\\"columns\\\",\\n)\\n\\n# Output file\\noutput_file = f\\\"{output_dir}/comparison_result_metric_summary.tsv\\\"\\ncomplete_df.to_csv(output_file, sep=\\\"\\\\t\\\", index=True)\\n\\nprint(complete_df.shape)\\ncomplete_df.head()\";\n",
       "                var nbb_cells = Jupyter.notebook.get_cells();\n",
       "                for (var i = 0; i < nbb_cells.length; ++i) {\n",
       "                    if (nbb_cells[i].input_prompt_number == nbb_cell_id) {\n",
       "                        if (nbb_cells[i].get_text() == nbb_unformatted_code) {\n",
       "                             nbb_cells[i].set_text(nbb_formatted_code);\n",
       "                        }\n",
       "                        break;\n",
       "                    }\n",
       "                }\n",
       "            }, 500);\n",
       "            "
      ],
      "text/plain": [
       "<IPython.core.display.Javascript object>"
      ]
     },
     "metadata": {},
     "output_type": "display_data"
    }
   ],
   "source": [
    "# Concatenate level 3 results\n",
    "level_3_complete_df = pd.concat(\n",
    "    [\n",
    "        level_3_completemean_diff_df,\n",
    "        level_3_completemedian_diff_df,\n",
    "        level_3_completesum_diff_df,\n",
    "    ],\n",
    "    axis=\"columns\",\n",
    ")\n",
    "\n",
    "level_3_complete_df.columns = [f\"level_3_{x}\" for x in level_3_complete_df.columns]\n",
    "\n",
    "# Concatenate level 4a results\n",
    "level_4a_complete_df = pd.concat(\n",
    "    [\n",
    "        level_4a_completemean_diff_df,\n",
    "        level_4a_completemedian_diff_df,\n",
    "        level_4a_completesum_diff_df,\n",
    "    ],\n",
    "    axis=\"columns\",\n",
    ")\n",
    "\n",
    "level_4a_complete_df.columns = [f\"level_4a_{x}\" for x in level_4a_complete_df.columns]\n",
    "\n",
    "# Concatenate level 4b results\n",
    "level_4b_complete_df = pd.concat(\n",
    "    [\n",
    "        level_4b_completemean_diff_df,\n",
    "        level_4b_completemedian_diff_df,\n",
    "        level_4b_completesum_diff_df,\n",
    "    ],\n",
    "    axis=\"columns\",\n",
    ")\n",
    "\n",
    "level_4b_complete_df.columns = [f\"level_4b_{x}\" for x in level_4b_complete_df.columns]\n",
    "\n",
    "# Combine all results\n",
    "complete_df = pd.concat(\n",
    "    [level_3_complete_df, level_4a_complete_df, level_4b_complete_df,], axis=\"columns\",\n",
    ")\n",
    "\n",
    "# Output file\n",
    "output_file = f\"{output_dir}/comparison_result_metric_summary.tsv\"\n",
    "complete_df.to_csv(output_file, sep=\"\\t\", index=True)\n",
    "\n",
    "print(complete_df.shape)\n",
    "complete_df.head()"
   ]
  }
 ],
 "metadata": {
  "kernelspec": {
   "display_name": "Python 3",
   "language": "python",
   "name": "python3"
  },
  "language_info": {
   "codemirror_mode": {
    "name": "ipython",
    "version": 3
   },
   "file_extension": ".py",
   "mimetype": "text/x-python",
   "name": "python",
   "nbconvert_exporter": "python",
   "pygments_lexer": "ipython3",
   "version": "3.7.6"
  }
 },
 "nbformat": 4,
 "nbformat_minor": 4
}
